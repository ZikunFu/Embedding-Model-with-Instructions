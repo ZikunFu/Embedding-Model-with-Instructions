{
 "cells": [
  {
   "cell_type": "markdown",
   "metadata": {},
   "source": [
    "# Embedding Model with Instructions"
   ]
  },
  {
   "cell_type": "markdown",
   "metadata": {},
   "source": [
    "## IMDB Dataset\n",
    "\n",
    "The IMDB dataset is a large dataset of movie reviews used for sentiment analysis. It contains 50,000 reviews labeled as positive or negative, which can be used for binary sentiment classification tasks. \n",
    "\n",
    "- **Train**: Contains 25,000 labeled reviews for training\n",
    "- **Test**: Contains 25,000 labeled reviews for evaluating"
   ]
  },
  {
   "cell_type": "markdown",
   "metadata": {},
   "source": [
    "### Save the dataset locally (Don't need to run)"
   ]
  },
  {
   "cell_type": "code",
   "execution_count": 14,
   "metadata": {},
   "outputs": [
    {
     "data": {
      "application/vnd.jupyter.widget-view+json": {
       "model_id": "a0c4b518fe4344faadd574afbf1a741a",
       "version_major": 2,
       "version_minor": 0
      },
      "text/plain": [
       "Saving the dataset (0/1 shards):   0%|          | 0/5000 [00:00<?, ? examples/s]"
      ]
     },
     "metadata": {},
     "output_type": "display_data"
    },
    {
     "data": {
      "application/vnd.jupyter.widget-view+json": {
       "model_id": "828c6ba7a9b74925bff928653e08d674",
       "version_major": 2,
       "version_minor": 0
      },
      "text/plain": [
       "Saving the dataset (0/1 shards):   0%|          | 0/5000 [00:00<?, ? examples/s]"
      ]
     },
     "metadata": {},
     "output_type": "display_data"
    }
   ],
   "source": [
    "from datasets import load_dataset\n",
    "\n",
    "def save_dataset(random_sample_size=5000):  # Reduce sample size for testing\n",
    "    # Load the dataset\n",
    "    dataset = load_dataset('stanfordnlp/imdb')\n",
    "    \n",
    "    # Access the train, test splits\n",
    "    train_dataset = dataset['train']\n",
    "    test_dataset = dataset['test']\n",
    "\n",
    "    # Random sample the dataset, only use random_sample_size\n",
    "    train_dataset = train_dataset.shuffle(seed=42).select(range(random_sample_size))\n",
    "    test_dataset = test_dataset.shuffle(seed=42).select(range(random_sample_size))\n",
    "\n",
    "    train_dataset.save_to_disk('sampled_train_dataset')\n",
    "    test_dataset.save_to_disk('sampled_test_dataset')\n",
    "save_dataset()"
   ]
  },
  {
   "cell_type": "markdown",
   "metadata": {},
   "source": [
    "## Load dataset from file"
   ]
  },
  {
   "cell_type": "code",
   "execution_count": 6,
   "metadata": {},
   "outputs": [
    {
     "name": "stdout",
     "output_type": "stream",
     "text": [
      ">>Train Dataset loaded<<\n",
      "Text: There is no relation at all between Fortier and Profiler but the fact that both are police series about violent crimes. Profiler looks crispy, Fortier looks classic. Profiler plots are quite simple. Fortier's plot are far more complicated... Fortier looks more like Prime Suspect, if we have to spot similarities... The main character is weak and weirdo, but have \"clairvoyance\". People like to compare, to judge, to evaluate. How about just enjoying? Funny thing too, people writing Fortier looks American but, on the other hand, arguing they prefer American series (!!!). Maybe it's the language, or the spirit, but I think this series is more English than American. By the way, the actors are really good and funny. The acting is not superficial at all... \n",
      "Label: 1\n",
      "\n",
      ">>Test Dataset loaded<<\n",
      "Text: <br /><br />When I unsuspectedly rented A Thousand Acres, I thought I was in for an entertaining King Lear story and of course Michelle Pfeiffer was in it, so what could go wrong?<br /><br />Very quickly, however, I realized that this story was about A Thousand Other Things besides just Acres. I started crying and couldn't stop until long after the movie ended. Thank you Jane, Laura and Jocelyn, for bringing us such a wonderfully subtle and compassionate movie! Thank you cast, for being involved and portraying the characters with such depth and gentleness!<br /><br />I recognized the Angry sister; the Runaway sister and the sister in Denial. I recognized the Abusive Husband and why he was there and then the Father, oh oh the Father... all superbly played. I also recognized myself and this movie was an eye-opener, a relief, a chance to face my OWN truth and finally doing something about it. I truly hope A Thousand Acres has had the same effect on some others out there.<br /><br />Since I didn't understand why the cover said the film was about sisters fighting over land -they weren't fighting each other at all- I watched it a second time. Then I was able to see that if one hadn't lived a similar story, one would easily miss the overwhelming undercurrent of dread and fear and the deep bond between the sisters that runs through it all. That is exactly the reason why people in general often overlook the truth about their neighbors for instance.<br /><br />But yet another reason why this movie is so perfect!<br /><br />I don't give a rat's ass (pardon my French) about to what extend the King Lear story is followed. All I know is that I can honestly say: this movie has changed my life.<br /><br />Keep up the good work guys, you CAN and DO make a difference.<br /><br /> \n",
      "Label: 1\n"
     ]
    }
   ],
   "source": [
    "from datasets import load_from_disk\n",
    "try:\n",
    "    train_dataset = load_from_disk('sampled_train_dataset')\n",
    "    test_dataset = load_from_disk('sampled_test_dataset')\n",
    "    \n",
    "    print(\">>Train Dataset loaded<<\")\n",
    "    # Print a sample from the loaded datasets to verify\n",
    "    print(\"Text:\", train_dataset[0][\"text\"], \"\\nLabel:\", train_dataset[0][\"label\"])\n",
    "    \n",
    "    print(\"\\n>>Test Dataset loaded<<\")\n",
    "    # Print a sample from the loaded test datasets to verify\n",
    "    print(\"Text:\", test_dataset[0][\"text\"], \"\\nLabel:\", test_dataset[0][\"label\"])\n",
    "except Exception as e:\n",
    "    print(f\"An error occurred while loading the datasets: {e}\")"
   ]
  },
  {
   "cell_type": "markdown",
   "metadata": {},
   "source": [
    "## Text Embedding Models\n",
    "\n",
    "- **BERT** (Bidirectional Encoder Representations from Transformers)\n",
    "    - Retrieved from [Hugging Face](https://huggingface.co/google-bert/bert-base-uncased)\n",
    "\n",
    "- **Sentence Transformer** (all-MiniLM-L12-v2)\n",
    "    - Retrieved from [Hugging Face](https://huggingface.co/sentence-transformers/all-MiniLM-L12-v2)\n",
    "\n",
    "- **T5** (Text-To-Text Transfer Transformer)\n",
    "    - Retrieved from [Hugging Face](https://huggingface.co/google-t5/t5-base)\n",
    "\n",
    "- **Instructor**\n",
    "    - Retrieved from [Hugging Face](https://huggingface.co/hkunlp/instructor-large)"
   ]
  },
  {
   "cell_type": "code",
   "execution_count": 15,
   "metadata": {},
   "outputs": [],
   "source": [
    "import torch\n",
    "from transformers import pipeline\n",
    "device = 0 if torch.cuda.is_available() else -1\n",
    "\n",
    "model_BERT = pipeline(\"feature-extraction\", model=\"google-bert/bert-base-uncased\", device=device)\n",
    "#model_ST = pipeline(\"feature-extraction\", model=\"sentence-transformers/all-MiniLM-L12-v2\", device=device)\n",
    "#model_T5 = pipeline(\"feature-extraction\", model=\"google-t5/t5-base\", device=device)\n",
    "#model_INS = pipeline(\"feature-extraction\", model=\"hkunlp/instructor-large\", device=device)"
   ]
  },
  {
   "cell_type": "markdown",
   "metadata": {},
   "source": [
    "- Helper function using the provided embedding model to encode text\n",
    "- returns Tensor"
   ]
  },
  {
   "cell_type": "code",
   "execution_count": 28,
   "metadata": {},
   "outputs": [],
   "source": [
    "from tqdm.auto import tqdm\n",
    "from transformers.pipelines.pt_utils import KeyDataset\n",
    "\n",
    "def embed_dataset(model, dataset, key, truncation=False, padding=False, max_length=0):\n",
    "    data = KeyDataset(dataset, key)\n",
    "    pipe = model(data, return_tensors=True, truncation=truncation, padding=padding, max_length=max_length)\n",
    "    for out in tqdm(pipe, desc=\"Encoding text:\"): pass"
   ]
  },
  {
   "cell_type": "code",
   "execution_count": 11,
   "metadata": {},
   "outputs": [
    {
     "data": {
      "text/plain": [
       "torch.Size([1, 179, 768])"
      ]
     },
     "execution_count": 11,
     "metadata": {},
     "output_type": "execute_result"
    }
   ],
   "source": [
    "tensor[0].shape"
   ]
  },
  {
   "cell_type": "markdown",
   "metadata": {},
   "source": [
    "Embed `train_dataset` and `test_dataset` then save them to disk\n",
    "- CPU 10 it/s\n",
    "- GPU 100 it/s"
   ]
  },
  {
   "cell_type": "code",
   "execution_count": 5,
   "metadata": {},
   "outputs": [],
   "source": [
    "from tqdm import tqdm\n",
    "import numpy as np\n",
    "\n",
    "# Helper function to process and embed dataset\n",
    "def process(dataset, feature_extractor, use_mean_pooling):\n",
    "    # init list of tensors\n",
    "    embeddings = []\n",
    "    labels = dataset[\"label\"]\n",
    "\n",
    "    # Embed the texts\n",
    "    embeddings = embed_dataset(dataset=dataset, model=feature_extractor, key=\"text\", truncation=True, padding=True, max_length=512)\n",
    "\n",
    "    # Use mean pooling to 1 dim for classification\n",
    "    if(use_mean_pooling):\n",
    "        tensor = tensor.mean(dim=1)\n",
    "        tensor = tensor.flatten()\n",
    "\n",
    "    # Return as numpy array for saving\n",
    "    return np.array(embeddings), np.array(labels)"
   ]
  },
  {
   "cell_type": "markdown",
   "metadata": {},
   "source": [
    "Augment dataset with instructions"
   ]
  },
  {
   "cell_type": "code",
   "execution_count": 34,
   "metadata": {},
   "outputs": [
    {
     "name": "stdout",
     "output_type": "stream",
     "text": [
      "Prefix: There is no relation at all between Fortier and\n",
      "Profiler but the fact that both are police series about\n",
      "violent crimes. Profiler looks crispy, Fortier looks\n",
      "classic. Profiler plots are quite simple. Fortier's plot are\n",
      "far more complicated... Fortier looks more like Prime\n",
      "Suspect, if we have to spot similarities... The main\n",
      "character is weak and weirdo, but have \"clairvoyance\".\n",
      "People like to compare, to judge, to evaluate. How about\n",
      "just enjoying? Funny thing too, people writing Fortier looks\n",
      "American but, on the other hand, arguing they prefer\n",
      "American series (!!!). Maybe it's the language, or the\n",
      "spirit, but I think this series is more English than\n",
      "American. By the way, the actors are really good and funny.\n",
      "The acting is not superficial at all... :Suffix\n"
     ]
    }
   ],
   "source": [
    "import textwrap\n",
    "\n",
    "def modify_dataset(example):\n",
    "    example['text'] = \"Prefix: \" + example['text'] + \" :Suffix\"\n",
    "    return example\n",
    "\n",
    "# Apply the function to the dataset\n",
    "train_dataset_aug = train_dataset.map(modify_dataset)\n",
    "\n",
    "# Check the first review\n",
    "example = train_dataset_aug['text'][0]\n",
    "print(textwrap.fill(example, width=60))"
   ]
  },
  {
   "cell_type": "markdown",
   "metadata": {},
   "source": [
    "This is not required to run if loading from disk"
   ]
  },
  {
   "cell_type": "code",
   "execution_count": null,
   "metadata": {},
   "outputs": [],
   "source": [
    "from datetime import datetime\n",
    "import os, json\n",
    "def save_embeddings(embeddings, model_name, save_path=\"data\"):\n",
    "    timestamp = datetime.now().strftime(\"%m%d_%H%M\")\n",
    "    # Calculate the average shape of tensors\n",
    "    tensor_shapes = [tensor.shape for tensor in embeddings]\n",
    "    avg_shape = np.mean(tensor_shapes, axis=0).tolist()\n",
    "    \n",
    "    embedding_info = {\n",
    "        'model_name': model_name,\n",
    "        'num_embeddings': len(embeddings),\n",
    "        'avg_embedding_shape': avg_shape,\n",
    "        'created_at': timestamp\n",
    "    }\n",
    "    \n",
    "    os.makedirs(save_path, exist_ok=True)\n",
    "    embedding_file = os.path.join(save_path, f\"{model_name}_embeddings.npy\")\n",
    "    metadata_file = os.path.join(save_path, f\"{model_name}_metadata.json\")\n",
    "    \n",
    "    np.save(embedding_file, embeddings)\n",
    "\n",
    "    with open(metadata_file, 'w') as f:\n",
    "        json.dump(embedding_info, f)\n",
    "    \n",
    "    print(f\"Embeddings and metadata saved for {model_name} at {timestamp}\")"
   ]
  },
  {
   "cell_type": "code",
   "execution_count": null,
   "metadata": {},
   "outputs": [],
   "source": [
    "def load_embeddings(embedding_file, metadata_file):\n",
    "    embeddings = np.load(embedding_file)\n",
    "    with open(metadata_file, 'r') as f:\n",
    "        metadata = json.load(f)\n",
    "    print(f\"Loaded embeddings from model: {metadata['model_name']}\")\n",
    "    print(f\"Embedding shape: {metadata['embedding_shape']}\")\n",
    "    print(f\"Created at: {metadata['created_at']}\")\n",
    "    return embeddings"
   ]
  },
  {
   "cell_type": "code",
   "execution_count": 6,
   "metadata": {},
   "outputs": [
    {
     "name": "stderr",
     "output_type": "stream",
     "text": [
      "Encoding train data:   0%|          | 0/25000 [00:00<?, ?it/s]c:\\Users\\Voice\\anaconda3\\envs\\embed\\Lib\\site-packages\\transformers\\models\\bert\\modeling_bert.py:435: UserWarning: 1Torch was not compiled with flash attention. (Triggered internally at C:\\cb\\pytorch_1000000000000\\work\\aten\\src\\ATen\\native\\transformers\\cuda\\sdp_utils.cpp:455.)\n",
      "  attn_output = torch.nn.functional.scaled_dot_product_attention(\n",
      "Encoding train data:   0%|          | 1/25000 [00:00<3:12:18,  2.17it/s]You seem to be using the pipelines sequentially on GPU. In order to maximize efficiency please use a dataset\n",
      "Encoding train data: 100%|██████████| 25000/25000 [04:25<00:00, 94.19it/s] \n",
      "Encoding test data: 100%|██████████| 25000/25000 [04:45<00:00, 87.57it/s] \n"
     ]
    }
   ],
   "source": [
    "import numpy as np\n",
    "import os\n",
    "\n",
    "def encode(train_dataset, test_dataset, feature_extractor):\n",
    "    # Process and embed the training and test data\n",
    "    train_embeddings, train_labels = process(train_dataset, feature_extractor, use_mean_pooling=True)\n",
    "    test_embeddings, test_labels = process(test_dataset, feature_extractor, use_mean_pooling=True)\n",
    "\n",
    "    # Save the embeddings and labels to .npy files\n",
    "    np.save(os.path.join('data','train_embeddings.npy'), train_embeddings)\n",
    "    np.save(os.path.join('data','train_labels.npy'), train_labels)\n",
    "    np.save(os.path.join('data','test_embeddings.npy'), test_embeddings)\n",
    "    np.save(os.path.join('data','test_labels.npy'), test_labels)\n",
    "\n",
    "#encode(train_dataset, test_dataset, model_BERT)"
   ]
  },
  {
   "cell_type": "markdown",
   "metadata": {},
   "source": [
    "Load embeddings and labels from disk"
   ]
  },
  {
   "cell_type": "code",
   "execution_count": 1,
   "metadata": {},
   "outputs": [
    {
     "name": "stdout",
     "output_type": "stream",
     "text": [
      "Train embeddings and labels loaded!\n",
      "Test embeddings and labels loaded!\n"
     ]
    }
   ],
   "source": [
    "import numpy as np\n",
    "import os\n",
    "\n",
    "# Load the embeddings and labels from .npy files\n",
    "try:\n",
    "    train_embeddings = np.load(os.path.join('data','train_embeddings.npy'))\n",
    "    train_labels = np.load(os.path.join('data', 'train_labels.npy'))\n",
    "    print(\"Train embeddings and labels loaded!\")\n",
    "    \n",
    "    test_embeddings = np.load(os.path.join('data','train_embeddings.npy'))\n",
    "    test_labels = np.load(os.path.join('data','test_labels.npy'))\n",
    "    print(\"Test embeddings and labels loaded!\")\n",
    "except Exception as e:\n",
    "    print(\"Load embedding failed:\", e)"
   ]
  },
  {
   "cell_type": "markdown",
   "metadata": {},
   "source": [
    "### Train classifiers to evaluate Embedding performance\n",
    "- Linear\n",
    "    - SVM\n",
    "- Non-Lienar\n",
    "    - MLP"
   ]
  },
  {
   "cell_type": "markdown",
   "metadata": {},
   "source": [
    "Train SVM model using `train_embeddings` and `train_labels`"
   ]
  },
  {
   "cell_type": "code",
   "execution_count": null,
   "metadata": {},
   "outputs": [],
   "source": [
    "from sklearn.svm import SVC\n",
    "from sklearn.metrics import classification_report\n",
    "\n",
    "# Train an SVM model\n",
    "svm_model = SVC(kernel='linear')\n",
    "svm_model.fit(train_embeddings, train_labels)"
   ]
  },
  {
   "cell_type": "markdown",
   "metadata": {},
   "source": [
    "Evaluate SVM results using `test_embeddings` and `test_labels`"
   ]
  },
  {
   "cell_type": "code",
   "execution_count": 12,
   "metadata": {},
   "outputs": [
    {
     "name": "stdout",
     "output_type": "stream",
     "text": [
      "              precision    recall  f1-score   support\n",
      "\n",
      "           0       0.90      0.91      0.90     12500\n",
      "           1       0.91      0.90      0.90     12500\n",
      "\n",
      "    accuracy                           0.90     25000\n",
      "   macro avg       0.90      0.90      0.90     25000\n",
      "weighted avg       0.90      0.90      0.90     25000\n",
      "\n"
     ]
    }
   ],
   "source": [
    "# Predict and evaluate\n",
    "predicted_labels = svm_model.predict(test_embeddings)\n",
    "print(classification_report(y_true=test_labels, y_pred=predicted_labels))"
   ]
  },
  {
   "cell_type": "markdown",
   "metadata": {},
   "source": [
    "MLP"
   ]
  },
  {
   "cell_type": "code",
   "execution_count": 4,
   "metadata": {},
   "outputs": [
    {
     "name": "stdout",
     "output_type": "stream",
     "text": [
      "Iteration 1, loss = 0.45508312\n",
      "Iteration 2, loss = 0.32360067\n",
      "Iteration 3, loss = 0.30201054\n",
      "Iteration 4, loss = 0.29376630\n",
      "Iteration 5, loss = 0.29093661\n",
      "Iteration 6, loss = 0.28485199\n",
      "Iteration 7, loss = 0.28306261\n",
      "Iteration 8, loss = 0.27774261\n",
      "Iteration 9, loss = 0.28060523\n",
      "Iteration 10, loss = 0.27239479\n",
      "Iteration 11, loss = 0.26746099\n",
      "Iteration 12, loss = 0.26639452\n",
      "Iteration 13, loss = 0.26759380\n",
      "Iteration 14, loss = 0.27147793\n",
      "Iteration 15, loss = 0.26649923\n",
      "Iteration 16, loss = 0.26131166\n",
      "Iteration 17, loss = 0.26058729\n",
      "Iteration 18, loss = 0.25630766\n",
      "Iteration 19, loss = 0.25358914\n",
      "Iteration 20, loss = 0.25397461\n",
      "Iteration 21, loss = 0.25147743\n",
      "Iteration 22, loss = 0.24943971\n",
      "Iteration 23, loss = 0.25084300\n",
      "Iteration 24, loss = 0.24741396\n",
      "Iteration 25, loss = 0.24528136\n",
      "Iteration 26, loss = 0.24756351\n",
      "Iteration 27, loss = 0.24111311\n",
      "Iteration 28, loss = 0.24670886\n",
      "Iteration 29, loss = 0.23864409\n",
      "Iteration 30, loss = 0.23626259\n",
      "Iteration 31, loss = 0.23756441\n",
      "Iteration 32, loss = 0.23041007\n",
      "Iteration 33, loss = 0.23334413\n",
      "Iteration 34, loss = 0.23171178\n",
      "Iteration 35, loss = 0.23017372\n",
      "Iteration 36, loss = 0.23199787\n",
      "Iteration 37, loss = 0.22360576\n",
      "Iteration 38, loss = 0.22498300\n",
      "Iteration 39, loss = 0.22654793\n",
      "Iteration 40, loss = 0.22153533\n",
      "Iteration 41, loss = 0.22032950\n",
      "Iteration 42, loss = 0.22516422\n",
      "Iteration 43, loss = 0.22058742\n",
      "Iteration 44, loss = 0.21525087\n",
      "Iteration 45, loss = 0.21339459\n",
      "Iteration 46, loss = 0.21490884\n",
      "Iteration 47, loss = 0.21280030\n",
      "Iteration 48, loss = 0.20891399\n",
      "Iteration 49, loss = 0.21294498\n",
      "Iteration 50, loss = 0.20876456\n",
      "Iteration 51, loss = 0.20835567\n",
      "Iteration 52, loss = 0.20049625\n",
      "Iteration 53, loss = 0.20341350\n",
      "Iteration 54, loss = 0.20020948\n",
      "Iteration 55, loss = 0.20323960\n",
      "Iteration 56, loss = 0.19422582\n",
      "Iteration 57, loss = 0.19367735\n",
      "Iteration 58, loss = 0.19099386\n",
      "Iteration 59, loss = 0.19325999\n",
      "Iteration 60, loss = 0.19189866\n",
      "Iteration 61, loss = 0.19247954\n",
      "Iteration 62, loss = 0.19764529\n",
      "Iteration 63, loss = 0.19787022\n",
      "Iteration 64, loss = 0.19265172\n",
      "Iteration 65, loss = 0.18577080\n",
      "Iteration 66, loss = 0.19223523\n",
      "Iteration 67, loss = 0.19282607\n",
      "Iteration 68, loss = 0.18689036\n",
      "Iteration 69, loss = 0.17878358\n",
      "Iteration 70, loss = 0.18273491\n",
      "Iteration 71, loss = 0.19206495\n",
      "Iteration 72, loss = 0.19003349\n",
      "Iteration 73, loss = 0.18766464\n",
      "Iteration 74, loss = 0.18938597\n",
      "Iteration 75, loss = 0.18331239\n",
      "Iteration 76, loss = 0.17233448\n",
      "Iteration 77, loss = 0.17596877\n",
      "Iteration 78, loss = 0.17682639\n",
      "Iteration 79, loss = 0.18067388\n",
      "Iteration 80, loss = 0.16961047\n",
      "Iteration 81, loss = 0.17337416\n",
      "Iteration 82, loss = 0.17119298\n",
      "Iteration 83, loss = 0.17667793\n",
      "Iteration 84, loss = 0.16759250\n",
      "Iteration 85, loss = 0.16793864\n",
      "Iteration 86, loss = 0.16196672\n",
      "Iteration 87, loss = 0.16260793\n",
      "Iteration 88, loss = 0.16423704\n",
      "Iteration 89, loss = 0.16898081\n",
      "Iteration 90, loss = 0.16636105\n",
      "Iteration 91, loss = 0.16417645\n",
      "Iteration 92, loss = 0.17111563\n",
      "Iteration 93, loss = 0.16592278\n",
      "Iteration 94, loss = 0.16888597\n",
      "Iteration 95, loss = 0.16054542\n",
      "Iteration 96, loss = 0.16210890\n",
      "Iteration 97, loss = 0.15810248\n",
      "Iteration 98, loss = 0.16436728\n",
      "Iteration 99, loss = 0.15001258\n",
      "Iteration 100, loss = 0.15597300\n",
      "Iteration 101, loss = 0.14899003\n",
      "Iteration 102, loss = 0.15977006\n",
      "Iteration 103, loss = 0.15110704\n",
      "Iteration 104, loss = 0.15715200\n",
      "Iteration 105, loss = 0.15085828\n",
      "Iteration 106, loss = 0.15149433\n",
      "Iteration 107, loss = 0.14908447\n",
      "Iteration 108, loss = 0.14997577\n",
      "Iteration 109, loss = 0.14764273\n",
      "Iteration 110, loss = 0.14828598\n",
      "Iteration 111, loss = 0.14117171\n",
      "Iteration 112, loss = 0.14418735\n",
      "Iteration 113, loss = 0.13892234\n",
      "Iteration 114, loss = 0.14076629\n",
      "Iteration 115, loss = 0.13116909\n",
      "Iteration 116, loss = 0.13688954\n",
      "Iteration 117, loss = 0.13686335\n",
      "Iteration 118, loss = 0.14432338\n",
      "Iteration 119, loss = 0.15776141\n",
      "Iteration 120, loss = 0.14435543\n",
      "Iteration 121, loss = 0.13972961\n",
      "Iteration 122, loss = 0.14134237\n",
      "Iteration 123, loss = 0.13433929\n",
      "Iteration 124, loss = 0.13981436\n",
      "Iteration 125, loss = 0.13313584\n",
      "Iteration 126, loss = 0.13215960\n",
      "Training loss did not improve more than tol=0.000100 for 10 consecutive epochs. Stopping.\n",
      "              precision    recall  f1-score   support\n",
      "\n",
      "           0       0.96      0.96      0.96     12500\n",
      "           1       0.96      0.96      0.96     12500\n",
      "\n",
      "    accuracy                           0.96     25000\n",
      "   macro avg       0.96      0.96      0.96     25000\n",
      "weighted avg       0.96      0.96      0.96     25000\n",
      "\n"
     ]
    }
   ],
   "source": [
    "from sklearn.neural_network import MLPClassifier\n",
    "from sklearn.metrics import classification_report\n",
    "\n",
    "# Define the MLP model\n",
    "mlp_model = MLPClassifier(hidden_layer_sizes=(100,), max_iter=300, alpha=1e-4,\n",
    "                          solver='sgd', verbose=1, random_state=1,\n",
    "                          learning_rate_init=.1)\n",
    "\n",
    "# Train the MLP model\n",
    "mlp_model.fit(train_embeddings, train_labels)\n",
    "\n",
    "# Predict and evaluate\n",
    "predicted_labels_mlp = mlp_model.predict(test_embeddings)\n",
    "print(classification_report(y_true=test_labels, y_pred=predicted_labels_mlp))\n"
   ]
  }
 ],
 "metadata": {
  "kernelspec": {
   "display_name": "embed",
   "language": "python",
   "name": "python3"
  },
  "language_info": {
   "codemirror_mode": {
    "name": "ipython",
    "version": 3
   },
   "file_extension": ".py",
   "mimetype": "text/x-python",
   "name": "python",
   "nbconvert_exporter": "python",
   "pygments_lexer": "ipython3",
   "version": "3.12.3"
  }
 },
 "nbformat": 4,
 "nbformat_minor": 2
}
