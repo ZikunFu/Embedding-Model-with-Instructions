{
 "cells": [
  {
   "cell_type": "markdown",
   "metadata": {},
   "source": [
    "# Embedding Model with Instructions"
   ]
  },
  {
   "cell_type": "markdown",
   "metadata": {},
   "source": [
    "## IMDB Dataset\n",
    "\n",
    "The IMDB dataset is a large dataset of movie reviews used for sentiment analysis. It contains 50,000 reviews labeled as positive or negative, which can be used for binary sentiment classification tasks. \n",
    "\n",
    "- **Train**: Contains 25,000 labeled reviews for training\n",
    "- **Test**: Contains 25,000 labeled reviews for evaluating"
   ]
  },
  {
   "cell_type": "markdown",
   "metadata": {},
   "source": [
    "### Save the dataset locally (Don't need to run)"
   ]
  },
  {
   "cell_type": "code",
   "execution_count": 14,
   "metadata": {},
   "outputs": [
    {
     "data": {
      "application/vnd.jupyter.widget-view+json": {
       "model_id": "a0c4b518fe4344faadd574afbf1a741a",
       "version_major": 2,
       "version_minor": 0
      },
      "text/plain": [
       "Saving the dataset (0/1 shards):   0%|          | 0/5000 [00:00<?, ? examples/s]"
      ]
     },
     "metadata": {},
     "output_type": "display_data"
    },
    {
     "data": {
      "application/vnd.jupyter.widget-view+json": {
       "model_id": "828c6ba7a9b74925bff928653e08d674",
       "version_major": 2,
       "version_minor": 0
      },
      "text/plain": [
       "Saving the dataset (0/1 shards):   0%|          | 0/5000 [00:00<?, ? examples/s]"
      ]
     },
     "metadata": {},
     "output_type": "display_data"
    }
   ],
   "source": [
    "from datasets import load_dataset\n",
    "\n",
    "def save_dataset(random_sample_size=5000):  # Reduce sample size for testing\n",
    "    # Load the dataset\n",
    "    dataset = load_dataset('stanfordnlp/imdb')\n",
    "    \n",
    "    # Access the train, test splits\n",
    "    train_dataset = dataset['train']\n",
    "    test_dataset = dataset['test']\n",
    "\n",
    "    # Random sample the dataset, only use random_sample_size\n",
    "    train_dataset = train_dataset.shuffle(seed=42).select(range(random_sample_size))\n",
    "    test_dataset = test_dataset.shuffle(seed=42).select(range(random_sample_size))\n",
    "\n",
    "    train_dataset.save_to_disk('sampled_train_dataset')\n",
    "    test_dataset.save_to_disk('sampled_test_dataset')\n",
    "save_dataset()"
   ]
  },
  {
   "cell_type": "markdown",
   "metadata": {},
   "source": [
    "## Load dataset from file"
   ]
  },
  {
   "cell_type": "code",
   "execution_count": 2,
   "metadata": {},
   "outputs": [
    {
     "name": "stdout",
     "output_type": "stream",
     "text": [
      ">>Train Dataset loaded<<\n",
      "Text: I rented I AM CURIOUS-YELLOW from my video store because of all the controversy that surrounded it when it was first released in 1967. I also heard that at first it was seized by U.S. customs if it ever tried to enter this country, therefore being a fan of films considered \"controversial\" I really had to see this for myself.<br /><br />The plot is centered around a young Swedish drama student named Lena who wants to learn everything she can about life. In particular she wants to focus her attentions to making some sort of documentary on what the average Swede thought about certain political issues such as the Vietnam War and race issues in the United States. In between asking politicians and ordinary denizens of Stockholm about their opinions on politics, she has sex with her drama teacher, classmates, and married men.<br /><br />What kills me about I AM CURIOUS-YELLOW is that 40 years ago, this was considered pornographic. Really, the sex and nudity scenes are few and far between, even then it's not shot like some cheaply made porno. While my countrymen mind find it shocking, in reality sex and nudity are a major staple in Swedish cinema. Even Ingmar Bergman, arguably their answer to good old boy John Ford, had sex scenes in his films.<br /><br />I do commend the filmmakers for the fact that any sex shown in the film is shown for artistic purposes rather than just to shock people and make money to be shown in pornographic theaters in America. I AM CURIOUS-YELLOW is a good film for anyone wanting to study the meat and potatoes (no pun intended) of Swedish cinema. But really, this film doesn't have much of a plot. \n",
      "Label: 0\n",
      "\n",
      ">>Test Dataset loaded<<\n",
      "Text: I love sci-fi and am willing to put up with a lot. Sci-fi movies/TV are usually underfunded, under-appreciated and misunderstood. I tried to like this, I really did, but it is to good TV sci-fi as Babylon 5 is to Star Trek (the original). Silly prosthetics, cheap cardboard sets, stilted dialogues, CG that doesn't match the background, and painfully one-dimensional characters cannot be overcome with a 'sci-fi' setting. (I'm sure there are those of you out there who think Babylon 5 is good sci-fi TV. It's not. It's clichéd and uninspiring.) While US viewers might like emotion and character development, sci-fi is a genre that does not take itself seriously (cf. Star Trek). It may treat important issues, yet not as a serious philosophy. It's really difficult to care about the characters here as they are not simply foolish, just missing a spark of life. Their actions and reactions are wooden and predictable, often painful to watch. The makers of Earth KNOW it's rubbish as they have to always say \"Gene Roddenberry's Earth...\" otherwise people would not continue watching. Roddenberry's ashes must be turning in their orbit as this dull, cheap, poorly edited (watching it without advert breaks really brings this home) trudging Trabant of a show lumbers into space. Spoiler. So, kill off a main character. And then bring him back as another actor. Jeeez! Dallas all over again. \n",
      "Label: 0\n"
     ]
    }
   ],
   "source": [
    "from datasets import load_from_disk\n",
    "try:\n",
    "    train_dataset = load_from_disk('sampled_train_dataset')\n",
    "    test_dataset = load_from_disk('sampled_test_dataset')\n",
    "    \n",
    "    print(\">>Train Dataset loaded<<\")\n",
    "    # Print a sample from the loaded datasets to verify\n",
    "    print(\"Text:\", train_dataset[0][\"text\"], \"\\nLabel:\", train_dataset[0][\"label\"])\n",
    "    \n",
    "    print(\"\\n>>Test Dataset loaded<<\")\n",
    "    # Print a sample from the loaded test datasets to verify\n",
    "    print(\"Text:\", test_dataset[0][\"text\"], \"\\nLabel:\", test_dataset[0][\"label\"])\n",
    "except Exception as e:\n",
    "    print(f\"An error occurred while loading the datasets: {e}\")"
   ]
  },
  {
   "cell_type": "markdown",
   "metadata": {},
   "source": [
    "## Text Embedding Models\n",
    "\n",
    "- **BERT** (Bidirectional Encoder Representations from Transformers)\n",
    "    - Retrieved from [Hugging Face](https://huggingface.co/google-bert/bert-base-uncased)\n",
    "\n",
    "- **Sentence Transformer** (all-MiniLM-L12-v2)\n",
    "    - Retrieved from [Hugging Face](https://huggingface.co/sentence-transformers/all-MiniLM-L12-v2)\n",
    "\n",
    "- **T5** (Text-To-Text Transfer Transformer)\n",
    "    - Retrieved from [Hugging Face](https://huggingface.co/google-t5/t5-base)\n",
    "\n",
    "- **Instructor**\n",
    "    - Retrieved from [Hugging Face](https://huggingface.co/hkunlp/instructor-large)"
   ]
  },
  {
   "cell_type": "code",
   "execution_count": 3,
   "metadata": {},
   "outputs": [],
   "source": [
    "import torch\n",
    "from transformers import pipeline\n",
    "device = 0 if torch.cuda.is_available() else -1\n",
    "\n",
    "model_BERT = pipeline(\"feature-extraction\", model=\"google-bert/bert-base-uncased\", device=device)\n",
    "#model_ST = pipeline(\"feature-extraction\", model=\"sentence-transformers/all-MiniLM-L12-v2\", device=device)\n",
    "#model_T5 = pipeline(\"feature-extraction\", model=\"google-t5/t5-base\", device=device)\n",
    "#model_INS = pipeline(\"feature-extraction\", model=\"hkunlp/instructor-large\", device=device)"
   ]
  },
  {
   "cell_type": "markdown",
   "metadata": {},
   "source": [
    "- Helper function using the provided embedding model to encode text\n",
    "- returns Tensor"
   ]
  },
  {
   "cell_type": "code",
   "execution_count": 4,
   "metadata": {},
   "outputs": [],
   "source": [
    "def embed(text, model, use_mean_pooling=False):\n",
    "    # BERT max seq length is 512, some reviews need to be truncated\n",
    "    tensor = model(text, return_tensors=True, truncation=True, padding=True, max_length=512)\n",
    "    \n",
    "    # Use mean pooling to 1 dim for SVM classification\n",
    "    if(use_mean_pooling):\n",
    "        tensor = tensor.mean(dim=1)\n",
    "        tensor = tensor.flatten()\n",
    "    return tensor"
   ]
  },
  {
   "cell_type": "markdown",
   "metadata": {},
   "source": [
    "Embed `train_dataset` and `test_dataset` then save them to disk\n",
    "- CPU 10 it/s\n",
    "- GPU 100 it/s"
   ]
  },
  {
   "cell_type": "code",
   "execution_count": 5,
   "metadata": {},
   "outputs": [],
   "source": [
    "from tqdm import tqdm\n",
    "import numpy as np\n",
    "\n",
    "# Helper function to process and embed dataset\n",
    "def process_and_embed(dataset, feature_extractor, desc):\n",
    "    embeddings = []\n",
    "    labels = []\n",
    "    for text, label in tqdm(zip(dataset['text'], dataset['label']), total=len(dataset['text']), desc=desc):\n",
    "        embedding = embed(text, feature_extractor, use_mean_pooling=True)\n",
    "        embeddings.append(embedding)\n",
    "        labels.append(label)\n",
    "    return np.array(embeddings), np.array(labels)"
   ]
  },
  {
   "cell_type": "markdown",
   "metadata": {},
   "source": [
    "This is not required to run if loading from disk"
   ]
  },
  {
   "cell_type": "code",
   "execution_count": 6,
   "metadata": {},
   "outputs": [
    {
     "name": "stderr",
     "output_type": "stream",
     "text": [
      "Encoding train data:   0%|          | 0/25000 [00:00<?, ?it/s]c:\\Users\\Voice\\anaconda3\\envs\\embed\\Lib\\site-packages\\transformers\\models\\bert\\modeling_bert.py:435: UserWarning: 1Torch was not compiled with flash attention. (Triggered internally at C:\\cb\\pytorch_1000000000000\\work\\aten\\src\\ATen\\native\\transformers\\cuda\\sdp_utils.cpp:455.)\n",
      "  attn_output = torch.nn.functional.scaled_dot_product_attention(\n",
      "Encoding train data:   0%|          | 1/25000 [00:00<3:12:18,  2.17it/s]You seem to be using the pipelines sequentially on GPU. In order to maximize efficiency please use a dataset\n",
      "Encoding train data: 100%|██████████| 25000/25000 [04:25<00:00, 94.19it/s] \n",
      "Encoding test data: 100%|██████████| 25000/25000 [04:45<00:00, 87.57it/s] \n"
     ]
    }
   ],
   "source": [
    "import numpy as np\n",
    "import os\n",
    "\n",
    "def encode(train_dataset, test_dataset, feature_extractor):\n",
    "    # Process and embed the training and test data\n",
    "    train_embeddings, train_labels = process_and_embed(train_dataset, feature_extractor, desc=\"Encoding train data\")\n",
    "    test_embeddings, test_labels = process_and_embed(test_dataset, feature_extractor, desc=\"Encoding test data\")\n",
    "\n",
    "    # Save the embeddings and labels to .npy files\n",
    "    np.save(os.path.join('data','train_embeddings.npy'), train_embeddings)\n",
    "    np.save(os.path.join('data','train_labels.npy'), train_labels)\n",
    "    np.save(os.path.join('data','test_embeddings.npy'), test_embeddings)\n",
    "    np.save(os.path.join('data','test_labels.npy'), test_labels)\n",
    "\n",
    "#encode(train_dataset, test_dataset, model_BERT)"
   ]
  },
  {
   "cell_type": "markdown",
   "metadata": {},
   "source": [
    "Load embeddings and labels from disk"
   ]
  },
  {
   "cell_type": "code",
   "execution_count": 7,
   "metadata": {},
   "outputs": [
    {
     "name": "stdout",
     "output_type": "stream",
     "text": [
      "Train embeddings and labels loaded!\n",
      "Test embeddings and labels loaded!\n"
     ]
    }
   ],
   "source": [
    "import numpy as np\n",
    "import os\n",
    "\n",
    "# Load the embeddings and labels from .npy files\n",
    "try:\n",
    "    train_embeddings = np.load(os.path.join('data','train_embeddings.npy'))\n",
    "    train_labels = np.load(os.path.join('data', 'train_labels.npy'))\n",
    "    print(\"Train embeddings and labels loaded!\")\n",
    "    \n",
    "    test_embeddings = np.load(os.path.join('data','train_embeddings.npy'))\n",
    "    test_labels = np.load(os.path.join('data','test_labels.npy'))\n",
    "    print(\"Test embeddings and labels loaded!\")\n",
    "except Exception as e:\n",
    "    print(\"Load embedding failed:\", e)"
   ]
  },
  {
   "cell_type": "markdown",
   "metadata": {},
   "source": [
    "### Train classifiers to evaluate Embedding performance\n",
    "- Linear\n",
    "    - SVM\n",
    "- Non-Lienar\n",
    "    - MLP"
   ]
  },
  {
   "cell_type": "markdown",
   "metadata": {},
   "source": [
    "Train SVM model using `train_embeddings` and `train_labels`"
   ]
  },
  {
   "cell_type": "code",
   "execution_count": null,
   "metadata": {},
   "outputs": [],
   "source": [
    "from sklearn.svm import SVC\n",
    "from sklearn.metrics import classification_report\n",
    "\n",
    "# Train an SVM model\n",
    "svm_model = SVC(kernel='linear')\n",
    "svm_model.fit(train_embeddings, train_labels)"
   ]
  },
  {
   "cell_type": "markdown",
   "metadata": {},
   "source": [
    "Evaluate SVM results using `test_embeddings` and `test_labels`"
   ]
  },
  {
   "cell_type": "code",
   "execution_count": 12,
   "metadata": {},
   "outputs": [
    {
     "name": "stdout",
     "output_type": "stream",
     "text": [
      "              precision    recall  f1-score   support\n",
      "\n",
      "           0       0.90      0.91      0.90     12500\n",
      "           1       0.91      0.90      0.90     12500\n",
      "\n",
      "    accuracy                           0.90     25000\n",
      "   macro avg       0.90      0.90      0.90     25000\n",
      "weighted avg       0.90      0.90      0.90     25000\n",
      "\n"
     ]
    }
   ],
   "source": [
    "# Predict and evaluate\n",
    "predicted_labels = svm_model.predict(test_embeddings)\n",
    "print(classification_report(y_true=test_labels, y_pred=predicted_labels))"
   ]
  }
 ],
 "metadata": {
  "kernelspec": {
   "display_name": "embed",
   "language": "python",
   "name": "python3"
  },
  "language_info": {
   "codemirror_mode": {
    "name": "ipython",
    "version": 3
   },
   "file_extension": ".py",
   "mimetype": "text/x-python",
   "name": "python",
   "nbconvert_exporter": "python",
   "pygments_lexer": "ipython3",
   "version": "3.12.3"
  }
 },
 "nbformat": 4,
 "nbformat_minor": 2
}
