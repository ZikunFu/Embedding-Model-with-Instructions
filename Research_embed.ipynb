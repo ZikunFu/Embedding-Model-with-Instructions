{
 "cells": [
  {
   "cell_type": "markdown",
   "metadata": {},
   "source": [
    "# Embedding Model with Instructions"
   ]
  },
  {
   "cell_type": "markdown",
   "metadata": {},
   "source": [
    "## Datasets\n",
    "- IMDB Review\n",
    "    - stanfordnlp/imdb\n",
    "    - The IMDB dataset is a large dataset of movie reviews used for sentiment analysis. Labeled as positive or negative\n",
    "        - **Train**: Contains 25,000 labeled reviews for training\n",
    "        - **Test**: Contains 25,000 labeled reviews for evaluating\n",
    "- Yelp Review\n",
    "    - yelp_review_full\n",
    "    - The Yelp reviews dataset consists of reviews from Yelp. It is extracted from the Yelp Dataset Challenge 2015 data. Labeled from 1 star to 5 star\n",
    "        - **Train**: Contains 650,000 labeled reviews for training\n",
    "        - **Test**: Contains 50,000 labeled reviews for evaluating"
   ]
  },
  {
   "cell_type": "code",
   "execution_count": 63,
   "metadata": {},
   "outputs": [],
   "source": [
    "def display_dataset_info(dataset):\n",
    "    info = dataset.info\n",
    "    dataset_name = info.dataset_name\n",
    "    splits_info = info.splits\n",
    "    features = info.features\n",
    "    print(f\"Dataset Name: {dataset_name}\")\n",
    "    print(\"Splits Info:\")\n",
    "    for split_name, split_info in splits_info.items():\n",
    "        num_examples = split_info.num_examples\n",
    "        print(f\" - Split: {split_name}, Num Examples: {num_examples}\")\n",
    "    print(\"Features:\")\n",
    "    for feature_name, feature_info in features.items():\n",
    "        print(f\" - {feature_name}: {feature_info}\")"
   ]
  },
  {
   "cell_type": "markdown",
   "metadata": {},
   "source": [
    "### Save Data to disk\n",
    "- Retrieve Dataset\n",
    "- Save (sampled) dataset to disk"
   ]
  },
  {
   "cell_type": "code",
   "execution_count": 100,
   "metadata": {},
   "outputs": [
    {
     "name": "stdout",
     "output_type": "stream",
     "text": [
      "Dataset Name: imdb\n",
      "Splits Info:\n",
      " - Split: train, Num Examples: 25000\n",
      " - Split: test, Num Examples: 25000\n",
      " - Split: unsupervised, Num Examples: 50000\n",
      "Features:\n",
      " - text: Value(dtype='string', id=None)\n",
      " - label: ClassLabel(names=['neg', 'pos'], id=None)\n"
     ]
    },
    {
     "data": {
      "application/vnd.jupyter.widget-view+json": {
       "model_id": "5a89ed7fcafd41c1867c42c83700df42",
       "version_major": 2,
       "version_minor": 0
      },
      "text/plain": [
       "Saving the dataset (0/1 shards):   0%|          | 0/25000 [00:00<?, ? examples/s]"
      ]
     },
     "metadata": {},
     "output_type": "display_data"
    },
    {
     "data": {
      "application/vnd.jupyter.widget-view+json": {
       "model_id": "f8ea3c06821b45f0b104210d8c31b9cb",
       "version_major": 2,
       "version_minor": 0
      },
      "text/plain": [
       "Saving the dataset (0/1 shards):   0%|          | 0/25000 [00:00<?, ? examples/s]"
      ]
     },
     "metadata": {},
     "output_type": "display_data"
    }
   ],
   "source": [
    "from datasets import load_dataset\n",
    "import os\n",
    "\n",
    "def save_dataset(random_sample_size=1000, save_path='sampled_datasets'):  \n",
    "    # Load the dataset\n",
    "    dataset_name = 'stanfordnlp/imdb'\n",
    "    dataset = load_dataset(dataset_name)\n",
    "    display_dataset_info(dataset['test'])\n",
    "    # Access the train, test splits\n",
    "    train_dataset = dataset['train']\n",
    "    test_dataset = dataset['test']\n",
    "\n",
    "    # Random sample the dataset, only use random_sample_size\n",
    "    if(random_sample_size != 0):\n",
    "        train_dataset = train_dataset.shuffle(seed=42).select(range(random_sample_size))\n",
    "        test_dataset = test_dataset.shuffle(seed=42).select(range(random_sample_size))\n",
    "\n",
    "    train_save_path = os.path.join(save_path, f\"{dataset_name}_train_{random_sample_size}\")\n",
    "    test_save_path = os.path.join(save_path, f\"{dataset_name}_test_{random_sample_size}\")\n",
    "\n",
    "    train_dataset.save_to_disk(train_save_path)\n",
    "    test_dataset.save_to_disk(test_save_path)\n",
    "\n",
    "save_dataset(random_sample_size=0)"
   ]
  },
  {
   "cell_type": "markdown",
   "metadata": {},
   "source": [
    "### Load Local Dataset\n",
    "- Load dataset from disk"
   ]
  },
  {
   "cell_type": "code",
   "execution_count": 101,
   "metadata": {},
   "outputs": [
    {
     "name": "stdout",
     "output_type": "stream",
     "text": [
      ">>Train Dataset loaded<<\n",
      "Text: I rented I AM CURIOUS-YELLOW from my video store because of\n",
      "all the controversy that surrounded it when it was first\n",
      "released in 1967. I also heard that at first it was seized\n",
      "by U.S. customs if it ever tried to enter this country,\n",
      "therefore being a fan of films considered \"controversial\" I\n",
      "really had to see this for myself.<br /><br />The plot is\n",
      "centered around a young Swedish drama student named Lena who\n",
      "wants to learn everything she can about life. In particular\n",
      "she wants to focus her attentions to making some sort of\n",
      "documentary on what the average Swede thought about certain\n",
      "political issues such as the Vietnam War and race issues in\n",
      "the United States. In between asking politicians and\n",
      "ordinary denizens of Stockholm about their opinions on\n",
      "politics, she has sex with her drama teacher, classmates,\n",
      "and married men.<br /><br />What kills me about I AM\n",
      "CURIOUS-YELLOW is that 40 years ago, this was considered\n",
      "pornographic. Really, the sex and nudity scenes are few and\n",
      "far between, even then it's not shot like some cheaply made\n",
      "porno. While my countrymen mind find it shocking, in reality\n",
      "sex and nudity are a major staple in Swedish cinema. Even\n",
      "Ingmar Bergman, arguably their answer to good old boy John\n",
      "Ford, had sex scenes in his films.<br /><br />I do commend\n",
      "the filmmakers for the fact that any sex shown in the film\n",
      "is shown for artistic purposes rather than just to shock\n",
      "people and make money to be shown in pornographic theaters\n",
      "in America. I AM CURIOUS-YELLOW is a good film for anyone\n",
      "wanting to study the meat and potatoes (no pun intended) of\n",
      "Swedish cinema. But really, this film doesn't have much of a\n",
      "plot. \n",
      "Label: 0\n",
      "\n",
      ">>Test Dataset loaded<<\n",
      "Text: I love sci-fi and am willing to put up with a lot. Sci-fi\n",
      "movies/TV are usually underfunded, under-appreciated and\n",
      "misunderstood. I tried to like this, I really did, but it is\n",
      "to good TV sci-fi as Babylon 5 is to Star Trek (the\n",
      "original). Silly prosthetics, cheap cardboard sets, stilted\n",
      "dialogues, CG that doesn't match the background, and\n",
      "painfully one-dimensional characters cannot be overcome with\n",
      "a 'sci-fi' setting. (I'm sure there are those of you out\n",
      "there who think Babylon 5 is good sci-fi TV. It's not. It's\n",
      "clichéd and uninspiring.) While US viewers might like\n",
      "emotion and character development, sci-fi is a genre that\n",
      "does not take itself seriously (cf. Star Trek). It may treat\n",
      "important issues, yet not as a serious philosophy. It's\n",
      "really difficult to care about the characters here as they\n",
      "are not simply foolish, just missing a spark of life. Their\n",
      "actions and reactions are wooden and predictable, often\n",
      "painful to watch. The makers of Earth KNOW it's rubbish as\n",
      "they have to always say \"Gene Roddenberry's Earth...\"\n",
      "otherwise people would not continue watching. Roddenberry's\n",
      "ashes must be turning in their orbit as this dull, cheap,\n",
      "poorly edited (watching it without advert breaks really\n",
      "brings this home) trudging Trabant of a show lumbers into\n",
      "space. Spoiler. So, kill off a main character. And then\n",
      "bring him back as another actor. Jeeez! Dallas all over\n",
      "again. \n",
      "Label: 0\n"
     ]
    }
   ],
   "source": [
    "from datasets import load_from_disk\n",
    "import textwrap\n",
    "\n",
    "def load_dataset_from_disk(save_path='sampled_datasets/stanfordnlp', train_path='imdb_train_0', test_path='imdb_test_0'):\n",
    "    try:\n",
    "        train_save_path = os.path.join(save_path, train_path)\n",
    "        test_save_path = os.path.join(save_path, test_path)\n",
    "\n",
    "        train_dataset = load_from_disk(train_save_path)\n",
    "        test_dataset = load_from_disk(test_save_path)\n",
    "        \n",
    "        print(\">>Train Dataset loaded<<\")\n",
    "        # Print a sample from the loaded datasets to verify\n",
    "        print(\"Text:\", textwrap.fill(train_dataset[0][\"text\"], width=60), \"\\nLabel:\", train_dataset[0][\"label\"])\n",
    "        \n",
    "        print(\"\\n>>Test Dataset loaded<<\")\n",
    "        # Print a sample from the loaded test datasets to verify\n",
    "        print(\"Text:\", textwrap.fill(test_dataset[0][\"text\"], width=60), \"\\nLabel:\", test_dataset[0][\"label\"])\n",
    "        return train_dataset, test_dataset\n",
    "    except Exception as e:\n",
    "        print(f\"Error: {e}\")\n",
    "    return train_dataset, test_dataset\n",
    "\n",
    "train_dataset, test_dataset = load_dataset_from_disk()"
   ]
  },
  {
   "cell_type": "markdown",
   "metadata": {},
   "source": [
    "## Text Embedding Models\n",
    "\n",
    "- **BERT** (Bidirectional Encoder Representations from Transformers)\n",
    "    - Retrieved from [Hugging Face](https://huggingface.co/google-bert/bert-base-uncased)\n",
    "\n",
    "- **Sentence Transformer** (all-MiniLM-L12-v2)\n",
    "    - Retrieved from [Hugging Face](https://huggingface.co/sentence-transformers/all-MiniLM-L12-v2)\n",
    "\n",
    "- **T5** (Text-To-Text Transfer Transformer)\n",
    "    - Retrieved from [Hugging Face](https://huggingface.co/google-t5/t5-base)\n",
    "\n",
    "- **Instructor**\n",
    "    - Retrieved from [Hugging Face](https://huggingface.co/hkunlp/instructor-large)"
   ]
  },
  {
   "cell_type": "code",
   "execution_count": 102,
   "metadata": {},
   "outputs": [],
   "source": [
    "import torch\n",
    "from transformers import pipeline\n",
    "device = 0 if torch.cuda.is_available() else -1\n",
    "\n",
    "model_BERT = pipeline(\"feature-extraction\", model=\"google-bert/bert-base-uncased\", device=device)\n",
    "#model_ST = pipeline(\"feature-extraction\", model=\"sentence-transformers/all-MiniLM-L12-v2\", device=device)\n",
    "#model_T5 = pipeline(\"feature-extraction\", model=\"google-t5/t5-base\", device=device)\n",
    "#model_INS = pipeline(\"feature-extraction\", model=\"hkunlp/instructor-large\", device=device)"
   ]
  },
  {
   "cell_type": "markdown",
   "metadata": {},
   "source": [
    "- Helper function using the provided embedding model to encode text\n",
    "- returns Array of Tensors and labels"
   ]
  },
  {
   "cell_type": "code",
   "execution_count": 78,
   "metadata": {},
   "outputs": [],
   "source": [
    "from tqdm.auto import tqdm\n",
    "from transformers.pipelines.pt_utils import KeyDataset\n",
    "import numpy as np\n",
    "\n",
    "def process_dataset(model, dataset, key, truncation=False, padding=False, max_length=0, use_mean_pooling=False):\n",
    "    data = KeyDataset(dataset, key)\n",
    "    pipe = model(data, return_tensors=True, truncation=truncation, padding=padding, max_length=max_length)\n",
    "    embeddings=[]\n",
    "    for tensor in tqdm(pipe, desc=\"Encoding text\"): \n",
    "        # Use mean pooling to 1 dim for classification\n",
    "        if(use_mean_pooling):\n",
    "            tensor = tensor.mean(dim=1)\n",
    "            tensor = tensor.flatten()\n",
    "        embeddings.append(tensor)\n",
    "    return np.array(embeddings), np.array(dataset[\"label\"])"
   ]
  },
  {
   "cell_type": "markdown",
   "metadata": {},
   "source": [
    "Augment dataset with instructions"
   ]
  },
  {
   "cell_type": "code",
   "execution_count": 103,
   "metadata": {},
   "outputs": [
    {
     "data": {
      "application/vnd.jupyter.widget-view+json": {
       "model_id": "6660a11ab68845d88a14ae5baf2b2099",
       "version_major": 2,
       "version_minor": 0
      },
      "text/plain": [
       "Map:   0%|          | 0/25000 [00:00<?, ? examples/s]"
      ]
     },
     "metadata": {},
     "output_type": "display_data"
    },
    {
     "name": "stdout",
     "output_type": "stream",
     "text": [
      "DIUhifhnfIUSWFDIdn*#&^G(1)I rented I AM CURIOUS-YELLOW from\n",
      "my video store because of all the controversy that\n",
      "surrounded it when it was first released in 1967. I also\n",
      "heard that at first it was seized by U.S. customs if it ever\n",
      "tried to enter this country, therefore being a fan of films\n",
      "considered \"controversial\" I really had to see this for\n",
      "myself.<br /><br />The plot is centered around a young\n",
      "Swedish drama student named Lena who wants to learn\n",
      "everything she can about life. In particular she wants to\n",
      "focus her attentions to making some sort of documentary on\n",
      "what the average Swede thought about certain political\n",
      "issues such as the Vietnam War and race issues in the United\n",
      "States. In between asking politicians and ordinary denizens\n",
      "of Stockholm about their opinions on politics, she has sex\n",
      "with her drama teacher, classmates, and married men.<br\n",
      "/><br />What kills me about I AM CURIOUS-YELLOW is that 40\n",
      "years ago, this was considered pornographic. Really, the sex\n",
      "and nudity scenes are few and far between, even then it's\n",
      "not shot like some cheaply made porno. While my countrymen\n",
      "mind find it shocking, in reality sex and nudity are a major\n",
      "staple in Swedish cinema. Even Ingmar Bergman, arguably\n",
      "their answer to good old boy John Ford, had sex scenes in\n",
      "his films.<br /><br />I do commend the filmmakers for the\n",
      "fact that any sex shown in the film is shown for artistic\n",
      "purposes rather than just to shock people and make money to\n",
      "be shown in pornographic theaters in America. I AM CURIOUS-\n",
      "YELLOW is a good film for anyone wanting to study the meat\n",
      "and potatoes (no pun intended) of Swedish cinema. But\n",
      "really, this film doesn't have much of a\n",
      "plot.cm8097)C*#MRY0W*&Edhj9efhdddwqferw\n"
     ]
    }
   ],
   "source": [
    "import textwrap\n",
    "\n",
    "def modify_dataset(example):\n",
    "    example['text'] = \"DIUhifhnfIUSWFDIdn*#&^G(1)\" + example['text'] + \"cm8097)C*#MRY0W*&Edhj9efhdddwqferw\"\n",
    "    return example\n",
    "\n",
    "# Apply the function to the dataset\n",
    "train_dataset_aug = train_dataset.map(modify_dataset)\n",
    "\n",
    "# Check the first review\n",
    "example = train_dataset_aug['text'][0]\n",
    "print(textwrap.fill(example, width=60))"
   ]
  },
  {
   "cell_type": "markdown",
   "metadata": {},
   "source": [
    "Embed `train_dataset` and `test_dataset` then save them to disk\n",
    "- CPU 10 it/s\n",
    "- GPU 100 it/s"
   ]
  },
  {
   "cell_type": "code",
   "execution_count": 104,
   "metadata": {},
   "outputs": [
    {
     "data": {
      "application/vnd.jupyter.widget-view+json": {
       "model_id": "4f26edba2f5a42a4a4b27f55768ce4f0",
       "version_major": 2,
       "version_minor": 0
      },
      "text/plain": [
       "Encoding text:   0%|          | 0/25000 [00:00<?, ?it/s]"
      ]
     },
     "metadata": {},
     "output_type": "display_data"
    },
    {
     "data": {
      "application/vnd.jupyter.widget-view+json": {
       "model_id": "b4a922cf4617480d95fa59aa782fa950",
       "version_major": 2,
       "version_minor": 0
      },
      "text/plain": [
       "Encoding text:   0%|          | 0/25000 [00:00<?, ?it/s]"
      ]
     },
     "metadata": {},
     "output_type": "display_data"
    }
   ],
   "source": [
    "train_embeddings, train_labels = process_dataset(dataset=train_dataset, model=model_BERT, key=\"text\", \n",
    "                                                 truncation=True, padding=True, max_length=512,use_mean_pooling=True)\n",
    "test_embeddings, test_labels = process_dataset(dataset=train_dataset, model=model_BERT, key=\"text\", \n",
    "                                               truncation=True, padding=True, max_length=512,use_mean_pooling=True)"
   ]
  },
  {
   "cell_type": "markdown",
   "metadata": {},
   "source": [
    "This is not required to run if loading from disk"
   ]
  },
  {
   "cell_type": "code",
   "execution_count": 80,
   "metadata": {},
   "outputs": [],
   "source": [
    "from datetime import datetime\n",
    "import os, json\n",
    "def save_embeddings(embeddings, model_name, save_path=\"data\"):\n",
    "    timestamp = datetime.now().strftime(\"%m-%d_%H:%M\")\n",
    "    # Calculate the average shape of tensors\n",
    "    tensor_shapes = [tensor.shape for tensor in embeddings]\n",
    "    avg_shape = np.mean(tensor_shapes, axis=0).tolist()\n",
    "    \n",
    "    embedding_info = {\n",
    "        'model_name': model_name,\n",
    "        'num_embeddings': len(embeddings),\n",
    "        'avg_embedding_shape': avg_shape,\n",
    "        'created_at': timestamp\n",
    "    }\n",
    "    \n",
    "    os.makedirs(save_path, exist_ok=True)\n",
    "    embedding_file = os.path.join(save_path, f\"{model_name}_embeddings.npy\")\n",
    "    metadata_file = os.path.join(save_path, f\"{model_name}_metadata.json\")\n",
    "    \n",
    "    np.save(embedding_file, embeddings)\n",
    "\n",
    "    with open(metadata_file, 'w') as f:\n",
    "        json.dump(embedding_info, f)\n",
    "    \n",
    "    print(f\"Embeddings and metadata saved for {model_name} at {timestamp}\")"
   ]
  },
  {
   "cell_type": "code",
   "execution_count": 81,
   "metadata": {},
   "outputs": [],
   "source": [
    "def load_embeddings(embedding_file, metadata_file):\n",
    "    embeddings = np.load(embedding_file)\n",
    "    with open(metadata_file, 'r') as f:\n",
    "        metadata = json.load(f)\n",
    "    \n",
    "    print(f\"Loaded embeddings from model: {metadata['model_name']}\")\n",
    "    print(f\"Number of embeddings: {metadata['num_embeddings']}\")\n",
    "    print(f\"Average embedding shape: {metadata['avg_embedding_shape']}\")\n",
    "    print(f\"Created at: {metadata['created_at']}\")\n",
    "    \n",
    "    return embeddings"
   ]
  },
  {
   "cell_type": "code",
   "execution_count": 82,
   "metadata": {},
   "outputs": [
    {
     "name": "stdout",
     "output_type": "stream",
     "text": [
      "Embeddings and metadata saved for BERT at 05-27_12:23\n"
     ]
    }
   ],
   "source": [
    "save_path=\"data\"\n",
    "model_name=\"BERT\"\n",
    "save_embeddings(train_embeddings, model_name, save_path)"
   ]
  },
  {
   "cell_type": "markdown",
   "metadata": {},
   "source": [
    "Load embedding from disk"
   ]
  },
  {
   "cell_type": "code",
   "execution_count": 83,
   "metadata": {},
   "outputs": [
    {
     "name": "stdout",
     "output_type": "stream",
     "text": [
      "Loaded embeddings from model: BERT\n",
      "Number of embeddings: 10000\n",
      "Average embedding shape: [768.0]\n",
      "Created at: 05-27_12:23\n"
     ]
    },
    {
     "data": {
      "text/plain": [
       "array([[ 0.33487466,  0.18951571,  0.16997708, ..., -0.14543127,\n",
       "         0.18289806, -0.05866966],\n",
       "       [ 0.12900904,  0.15694778,  0.7177404 , ..., -0.11730668,\n",
       "         0.20632458,  0.12624525],\n",
       "       [ 0.29783016,  0.17169824,  0.4370483 , ..., -0.16575865,\n",
       "         0.21610147, -0.13894227],\n",
       "       ...,\n",
       "       [ 0.33479112,  0.19027473,  0.19242047, ..., -0.05238853,\n",
       "         0.05621795,  0.01344509],\n",
       "       [ 0.19905636,  0.1317051 ,  0.54959613, ..., -0.09682898,\n",
       "         0.20079939,  0.08876501],\n",
       "       [ 0.02522485,  0.07287347,  0.52920115, ..., -0.04332894,\n",
       "         0.10391848,  0.15221924]], dtype=float32)"
      ]
     },
     "execution_count": 83,
     "metadata": {},
     "output_type": "execute_result"
    }
   ],
   "source": [
    "save_path=\"data\"\n",
    "model_name=\"BERT\"\n",
    "\n",
    "embedding_file = os.path.join(save_path, f\"{model_name}_embeddings.npy\")\n",
    "metadata_file = os.path.join(save_path, f\"{model_name}_metadata.json\")\n",
    "load_embeddings(embedding_file,metadata_file)"
   ]
  },
  {
   "cell_type": "markdown",
   "metadata": {},
   "source": [
    "### Train classifiers to evaluate Embedding performance\n",
    "- Linear\n",
    "    - SVM\n",
    "- Non-Lienar\n",
    "    - MLP"
   ]
  },
  {
   "cell_type": "markdown",
   "metadata": {},
   "source": [
    "Train SVM model using `train_embeddings` and `train_labels`"
   ]
  },
  {
   "cell_type": "code",
   "execution_count": 105,
   "metadata": {},
   "outputs": [
    {
     "data": {
      "text/html": [
       "<style>#sk-container-id-5 {\n",
       "  /* Definition of color scheme common for light and dark mode */\n",
       "  --sklearn-color-text: black;\n",
       "  --sklearn-color-line: gray;\n",
       "  /* Definition of color scheme for unfitted estimators */\n",
       "  --sklearn-color-unfitted-level-0: #fff5e6;\n",
       "  --sklearn-color-unfitted-level-1: #f6e4d2;\n",
       "  --sklearn-color-unfitted-level-2: #ffe0b3;\n",
       "  --sklearn-color-unfitted-level-3: chocolate;\n",
       "  /* Definition of color scheme for fitted estimators */\n",
       "  --sklearn-color-fitted-level-0: #f0f8ff;\n",
       "  --sklearn-color-fitted-level-1: #d4ebff;\n",
       "  --sklearn-color-fitted-level-2: #b3dbfd;\n",
       "  --sklearn-color-fitted-level-3: cornflowerblue;\n",
       "\n",
       "  /* Specific color for light theme */\n",
       "  --sklearn-color-text-on-default-background: var(--sg-text-color, var(--theme-code-foreground, var(--jp-content-font-color1, black)));\n",
       "  --sklearn-color-background: var(--sg-background-color, var(--theme-background, var(--jp-layout-color0, white)));\n",
       "  --sklearn-color-border-box: var(--sg-text-color, var(--theme-code-foreground, var(--jp-content-font-color1, black)));\n",
       "  --sklearn-color-icon: #696969;\n",
       "\n",
       "  @media (prefers-color-scheme: dark) {\n",
       "    /* Redefinition of color scheme for dark theme */\n",
       "    --sklearn-color-text-on-default-background: var(--sg-text-color, var(--theme-code-foreground, var(--jp-content-font-color1, white)));\n",
       "    --sklearn-color-background: var(--sg-background-color, var(--theme-background, var(--jp-layout-color0, #111)));\n",
       "    --sklearn-color-border-box: var(--sg-text-color, var(--theme-code-foreground, var(--jp-content-font-color1, white)));\n",
       "    --sklearn-color-icon: #878787;\n",
       "  }\n",
       "}\n",
       "\n",
       "#sk-container-id-5 {\n",
       "  color: var(--sklearn-color-text);\n",
       "}\n",
       "\n",
       "#sk-container-id-5 pre {\n",
       "  padding: 0;\n",
       "}\n",
       "\n",
       "#sk-container-id-5 input.sk-hidden--visually {\n",
       "  border: 0;\n",
       "  clip: rect(1px 1px 1px 1px);\n",
       "  clip: rect(1px, 1px, 1px, 1px);\n",
       "  height: 1px;\n",
       "  margin: -1px;\n",
       "  overflow: hidden;\n",
       "  padding: 0;\n",
       "  position: absolute;\n",
       "  width: 1px;\n",
       "}\n",
       "\n",
       "#sk-container-id-5 div.sk-dashed-wrapped {\n",
       "  border: 1px dashed var(--sklearn-color-line);\n",
       "  margin: 0 0.4em 0.5em 0.4em;\n",
       "  box-sizing: border-box;\n",
       "  padding-bottom: 0.4em;\n",
       "  background-color: var(--sklearn-color-background);\n",
       "}\n",
       "\n",
       "#sk-container-id-5 div.sk-container {\n",
       "  /* jupyter's `normalize.less` sets `[hidden] { display: none; }`\n",
       "     but bootstrap.min.css set `[hidden] { display: none !important; }`\n",
       "     so we also need the `!important` here to be able to override the\n",
       "     default hidden behavior on the sphinx rendered scikit-learn.org.\n",
       "     See: https://github.com/scikit-learn/scikit-learn/issues/21755 */\n",
       "  display: inline-block !important;\n",
       "  position: relative;\n",
       "}\n",
       "\n",
       "#sk-container-id-5 div.sk-text-repr-fallback {\n",
       "  display: none;\n",
       "}\n",
       "\n",
       "div.sk-parallel-item,\n",
       "div.sk-serial,\n",
       "div.sk-item {\n",
       "  /* draw centered vertical line to link estimators */\n",
       "  background-image: linear-gradient(var(--sklearn-color-text-on-default-background), var(--sklearn-color-text-on-default-background));\n",
       "  background-size: 2px 100%;\n",
       "  background-repeat: no-repeat;\n",
       "  background-position: center center;\n",
       "}\n",
       "\n",
       "/* Parallel-specific style estimator block */\n",
       "\n",
       "#sk-container-id-5 div.sk-parallel-item::after {\n",
       "  content: \"\";\n",
       "  width: 100%;\n",
       "  border-bottom: 2px solid var(--sklearn-color-text-on-default-background);\n",
       "  flex-grow: 1;\n",
       "}\n",
       "\n",
       "#sk-container-id-5 div.sk-parallel {\n",
       "  display: flex;\n",
       "  align-items: stretch;\n",
       "  justify-content: center;\n",
       "  background-color: var(--sklearn-color-background);\n",
       "  position: relative;\n",
       "}\n",
       "\n",
       "#sk-container-id-5 div.sk-parallel-item {\n",
       "  display: flex;\n",
       "  flex-direction: column;\n",
       "}\n",
       "\n",
       "#sk-container-id-5 div.sk-parallel-item:first-child::after {\n",
       "  align-self: flex-end;\n",
       "  width: 50%;\n",
       "}\n",
       "\n",
       "#sk-container-id-5 div.sk-parallel-item:last-child::after {\n",
       "  align-self: flex-start;\n",
       "  width: 50%;\n",
       "}\n",
       "\n",
       "#sk-container-id-5 div.sk-parallel-item:only-child::after {\n",
       "  width: 0;\n",
       "}\n",
       "\n",
       "/* Serial-specific style estimator block */\n",
       "\n",
       "#sk-container-id-5 div.sk-serial {\n",
       "  display: flex;\n",
       "  flex-direction: column;\n",
       "  align-items: center;\n",
       "  background-color: var(--sklearn-color-background);\n",
       "  padding-right: 1em;\n",
       "  padding-left: 1em;\n",
       "}\n",
       "\n",
       "\n",
       "/* Toggleable style: style used for estimator/Pipeline/ColumnTransformer box that is\n",
       "clickable and can be expanded/collapsed.\n",
       "- Pipeline and ColumnTransformer use this feature and define the default style\n",
       "- Estimators will overwrite some part of the style using the `sk-estimator` class\n",
       "*/\n",
       "\n",
       "/* Pipeline and ColumnTransformer style (default) */\n",
       "\n",
       "#sk-container-id-5 div.sk-toggleable {\n",
       "  /* Default theme specific background. It is overwritten whether we have a\n",
       "  specific estimator or a Pipeline/ColumnTransformer */\n",
       "  background-color: var(--sklearn-color-background);\n",
       "}\n",
       "\n",
       "/* Toggleable label */\n",
       "#sk-container-id-5 label.sk-toggleable__label {\n",
       "  cursor: pointer;\n",
       "  display: block;\n",
       "  width: 100%;\n",
       "  margin-bottom: 0;\n",
       "  padding: 0.5em;\n",
       "  box-sizing: border-box;\n",
       "  text-align: center;\n",
       "}\n",
       "\n",
       "#sk-container-id-5 label.sk-toggleable__label-arrow:before {\n",
       "  /* Arrow on the left of the label */\n",
       "  content: \"▸\";\n",
       "  float: left;\n",
       "  margin-right: 0.25em;\n",
       "  color: var(--sklearn-color-icon);\n",
       "}\n",
       "\n",
       "#sk-container-id-5 label.sk-toggleable__label-arrow:hover:before {\n",
       "  color: var(--sklearn-color-text);\n",
       "}\n",
       "\n",
       "/* Toggleable content - dropdown */\n",
       "\n",
       "#sk-container-id-5 div.sk-toggleable__content {\n",
       "  max-height: 0;\n",
       "  max-width: 0;\n",
       "  overflow: hidden;\n",
       "  text-align: left;\n",
       "  /* unfitted */\n",
       "  background-color: var(--sklearn-color-unfitted-level-0);\n",
       "}\n",
       "\n",
       "#sk-container-id-5 div.sk-toggleable__content.fitted {\n",
       "  /* fitted */\n",
       "  background-color: var(--sklearn-color-fitted-level-0);\n",
       "}\n",
       "\n",
       "#sk-container-id-5 div.sk-toggleable__content pre {\n",
       "  margin: 0.2em;\n",
       "  border-radius: 0.25em;\n",
       "  color: var(--sklearn-color-text);\n",
       "  /* unfitted */\n",
       "  background-color: var(--sklearn-color-unfitted-level-0);\n",
       "}\n",
       "\n",
       "#sk-container-id-5 div.sk-toggleable__content.fitted pre {\n",
       "  /* unfitted */\n",
       "  background-color: var(--sklearn-color-fitted-level-0);\n",
       "}\n",
       "\n",
       "#sk-container-id-5 input.sk-toggleable__control:checked~div.sk-toggleable__content {\n",
       "  /* Expand drop-down */\n",
       "  max-height: 200px;\n",
       "  max-width: 100%;\n",
       "  overflow: auto;\n",
       "}\n",
       "\n",
       "#sk-container-id-5 input.sk-toggleable__control:checked~label.sk-toggleable__label-arrow:before {\n",
       "  content: \"▾\";\n",
       "}\n",
       "\n",
       "/* Pipeline/ColumnTransformer-specific style */\n",
       "\n",
       "#sk-container-id-5 div.sk-label input.sk-toggleable__control:checked~label.sk-toggleable__label {\n",
       "  color: var(--sklearn-color-text);\n",
       "  background-color: var(--sklearn-color-unfitted-level-2);\n",
       "}\n",
       "\n",
       "#sk-container-id-5 div.sk-label.fitted input.sk-toggleable__control:checked~label.sk-toggleable__label {\n",
       "  background-color: var(--sklearn-color-fitted-level-2);\n",
       "}\n",
       "\n",
       "/* Estimator-specific style */\n",
       "\n",
       "/* Colorize estimator box */\n",
       "#sk-container-id-5 div.sk-estimator input.sk-toggleable__control:checked~label.sk-toggleable__label {\n",
       "  /* unfitted */\n",
       "  background-color: var(--sklearn-color-unfitted-level-2);\n",
       "}\n",
       "\n",
       "#sk-container-id-5 div.sk-estimator.fitted input.sk-toggleable__control:checked~label.sk-toggleable__label {\n",
       "  /* fitted */\n",
       "  background-color: var(--sklearn-color-fitted-level-2);\n",
       "}\n",
       "\n",
       "#sk-container-id-5 div.sk-label label.sk-toggleable__label,\n",
       "#sk-container-id-5 div.sk-label label {\n",
       "  /* The background is the default theme color */\n",
       "  color: var(--sklearn-color-text-on-default-background);\n",
       "}\n",
       "\n",
       "/* On hover, darken the color of the background */\n",
       "#sk-container-id-5 div.sk-label:hover label.sk-toggleable__label {\n",
       "  color: var(--sklearn-color-text);\n",
       "  background-color: var(--sklearn-color-unfitted-level-2);\n",
       "}\n",
       "\n",
       "/* Label box, darken color on hover, fitted */\n",
       "#sk-container-id-5 div.sk-label.fitted:hover label.sk-toggleable__label.fitted {\n",
       "  color: var(--sklearn-color-text);\n",
       "  background-color: var(--sklearn-color-fitted-level-2);\n",
       "}\n",
       "\n",
       "/* Estimator label */\n",
       "\n",
       "#sk-container-id-5 div.sk-label label {\n",
       "  font-family: monospace;\n",
       "  font-weight: bold;\n",
       "  display: inline-block;\n",
       "  line-height: 1.2em;\n",
       "}\n",
       "\n",
       "#sk-container-id-5 div.sk-label-container {\n",
       "  text-align: center;\n",
       "}\n",
       "\n",
       "/* Estimator-specific */\n",
       "#sk-container-id-5 div.sk-estimator {\n",
       "  font-family: monospace;\n",
       "  border: 1px dotted var(--sklearn-color-border-box);\n",
       "  border-radius: 0.25em;\n",
       "  box-sizing: border-box;\n",
       "  margin-bottom: 0.5em;\n",
       "  /* unfitted */\n",
       "  background-color: var(--sklearn-color-unfitted-level-0);\n",
       "}\n",
       "\n",
       "#sk-container-id-5 div.sk-estimator.fitted {\n",
       "  /* fitted */\n",
       "  background-color: var(--sklearn-color-fitted-level-0);\n",
       "}\n",
       "\n",
       "/* on hover */\n",
       "#sk-container-id-5 div.sk-estimator:hover {\n",
       "  /* unfitted */\n",
       "  background-color: var(--sklearn-color-unfitted-level-2);\n",
       "}\n",
       "\n",
       "#sk-container-id-5 div.sk-estimator.fitted:hover {\n",
       "  /* fitted */\n",
       "  background-color: var(--sklearn-color-fitted-level-2);\n",
       "}\n",
       "\n",
       "/* Specification for estimator info (e.g. \"i\" and \"?\") */\n",
       "\n",
       "/* Common style for \"i\" and \"?\" */\n",
       "\n",
       ".sk-estimator-doc-link,\n",
       "a:link.sk-estimator-doc-link,\n",
       "a:visited.sk-estimator-doc-link {\n",
       "  float: right;\n",
       "  font-size: smaller;\n",
       "  line-height: 1em;\n",
       "  font-family: monospace;\n",
       "  background-color: var(--sklearn-color-background);\n",
       "  border-radius: 1em;\n",
       "  height: 1em;\n",
       "  width: 1em;\n",
       "  text-decoration: none !important;\n",
       "  margin-left: 1ex;\n",
       "  /* unfitted */\n",
       "  border: var(--sklearn-color-unfitted-level-1) 1pt solid;\n",
       "  color: var(--sklearn-color-unfitted-level-1);\n",
       "}\n",
       "\n",
       ".sk-estimator-doc-link.fitted,\n",
       "a:link.sk-estimator-doc-link.fitted,\n",
       "a:visited.sk-estimator-doc-link.fitted {\n",
       "  /* fitted */\n",
       "  border: var(--sklearn-color-fitted-level-1) 1pt solid;\n",
       "  color: var(--sklearn-color-fitted-level-1);\n",
       "}\n",
       "\n",
       "/* On hover */\n",
       "div.sk-estimator:hover .sk-estimator-doc-link:hover,\n",
       ".sk-estimator-doc-link:hover,\n",
       "div.sk-label-container:hover .sk-estimator-doc-link:hover,\n",
       ".sk-estimator-doc-link:hover {\n",
       "  /* unfitted */\n",
       "  background-color: var(--sklearn-color-unfitted-level-3);\n",
       "  color: var(--sklearn-color-background);\n",
       "  text-decoration: none;\n",
       "}\n",
       "\n",
       "div.sk-estimator.fitted:hover .sk-estimator-doc-link.fitted:hover,\n",
       ".sk-estimator-doc-link.fitted:hover,\n",
       "div.sk-label-container:hover .sk-estimator-doc-link.fitted:hover,\n",
       ".sk-estimator-doc-link.fitted:hover {\n",
       "  /* fitted */\n",
       "  background-color: var(--sklearn-color-fitted-level-3);\n",
       "  color: var(--sklearn-color-background);\n",
       "  text-decoration: none;\n",
       "}\n",
       "\n",
       "/* Span, style for the box shown on hovering the info icon */\n",
       ".sk-estimator-doc-link span {\n",
       "  display: none;\n",
       "  z-index: 9999;\n",
       "  position: relative;\n",
       "  font-weight: normal;\n",
       "  right: .2ex;\n",
       "  padding: .5ex;\n",
       "  margin: .5ex;\n",
       "  width: min-content;\n",
       "  min-width: 20ex;\n",
       "  max-width: 50ex;\n",
       "  color: var(--sklearn-color-text);\n",
       "  box-shadow: 2pt 2pt 4pt #999;\n",
       "  /* unfitted */\n",
       "  background: var(--sklearn-color-unfitted-level-0);\n",
       "  border: .5pt solid var(--sklearn-color-unfitted-level-3);\n",
       "}\n",
       "\n",
       ".sk-estimator-doc-link.fitted span {\n",
       "  /* fitted */\n",
       "  background: var(--sklearn-color-fitted-level-0);\n",
       "  border: var(--sklearn-color-fitted-level-3);\n",
       "}\n",
       "\n",
       ".sk-estimator-doc-link:hover span {\n",
       "  display: block;\n",
       "}\n",
       "\n",
       "/* \"?\"-specific style due to the `<a>` HTML tag */\n",
       "\n",
       "#sk-container-id-5 a.estimator_doc_link {\n",
       "  float: right;\n",
       "  font-size: 1rem;\n",
       "  line-height: 1em;\n",
       "  font-family: monospace;\n",
       "  background-color: var(--sklearn-color-background);\n",
       "  border-radius: 1rem;\n",
       "  height: 1rem;\n",
       "  width: 1rem;\n",
       "  text-decoration: none;\n",
       "  /* unfitted */\n",
       "  color: var(--sklearn-color-unfitted-level-1);\n",
       "  border: var(--sklearn-color-unfitted-level-1) 1pt solid;\n",
       "}\n",
       "\n",
       "#sk-container-id-5 a.estimator_doc_link.fitted {\n",
       "  /* fitted */\n",
       "  border: var(--sklearn-color-fitted-level-1) 1pt solid;\n",
       "  color: var(--sklearn-color-fitted-level-1);\n",
       "}\n",
       "\n",
       "/* On hover */\n",
       "#sk-container-id-5 a.estimator_doc_link:hover {\n",
       "  /* unfitted */\n",
       "  background-color: var(--sklearn-color-unfitted-level-3);\n",
       "  color: var(--sklearn-color-background);\n",
       "  text-decoration: none;\n",
       "}\n",
       "\n",
       "#sk-container-id-5 a.estimator_doc_link.fitted:hover {\n",
       "  /* fitted */\n",
       "  background-color: var(--sklearn-color-fitted-level-3);\n",
       "}\n",
       "</style><div id=\"sk-container-id-5\" class=\"sk-top-container\"><div class=\"sk-text-repr-fallback\"><pre>SVC(kernel=&#x27;linear&#x27;)</pre><b>In a Jupyter environment, please rerun this cell to show the HTML representation or trust the notebook. <br />On GitHub, the HTML representation is unable to render, please try loading this page with nbviewer.org.</b></div><div class=\"sk-container\" hidden><div class=\"sk-item\"><div class=\"sk-estimator fitted sk-toggleable\"><input class=\"sk-toggleable__control sk-hidden--visually\" id=\"sk-estimator-id-5\" type=\"checkbox\" checked><label for=\"sk-estimator-id-5\" class=\"sk-toggleable__label fitted sk-toggleable__label-arrow fitted\">&nbsp;&nbsp;SVC<a class=\"sk-estimator-doc-link fitted\" rel=\"noreferrer\" target=\"_blank\" href=\"https://scikit-learn.org/1.4/modules/generated/sklearn.svm.SVC.html\">?<span>Documentation for SVC</span></a><span class=\"sk-estimator-doc-link fitted\">i<span>Fitted</span></span></label><div class=\"sk-toggleable__content fitted\"><pre>SVC(kernel=&#x27;linear&#x27;)</pre></div> </div></div></div></div>"
      ],
      "text/plain": [
       "SVC(kernel='linear')"
      ]
     },
     "execution_count": 105,
     "metadata": {},
     "output_type": "execute_result"
    }
   ],
   "source": [
    "from sklearn.svm import SVC\n",
    "from sklearn.metrics import classification_report\n",
    "\n",
    "# Train an SVM model\n",
    "svm_model = SVC(kernel='linear')\n",
    "svm_model.fit(train_embeddings, train_labels)"
   ]
  },
  {
   "cell_type": "markdown",
   "metadata": {},
   "source": [
    "Evaluate SVM results using `test_embeddings` and `test_labels`"
   ]
  },
  {
   "cell_type": "code",
   "execution_count": 90,
   "metadata": {},
   "outputs": [
    {
     "name": "stdout",
     "output_type": "stream",
     "text": [
      "              precision    recall  f1-score   support\n",
      "\n",
      "           0       0.79      0.85      0.82      2035\n",
      "           1       0.65      0.67      0.66      1977\n",
      "           2       0.64      0.62      0.63      1943\n",
      "           3       0.66      0.64      0.65      1991\n",
      "           4       0.80      0.78      0.79      2054\n",
      "\n",
      "    accuracy                           0.71     10000\n",
      "   macro avg       0.71      0.71      0.71     10000\n",
      "weighted avg       0.71      0.71      0.71     10000\n",
      "\n"
     ]
    }
   ],
   "source": [
    "# Predict and evaluate\n",
    "predicted_labels = svm_model.predict(test_embeddings)\n",
    "print(classification_report(y_true=test_labels, y_pred=predicted_labels))"
   ]
  },
  {
   "cell_type": "markdown",
   "metadata": {},
   "source": [
    "MLP"
   ]
  },
  {
   "cell_type": "code",
   "execution_count": 91,
   "metadata": {},
   "outputs": [
    {
     "name": "stdout",
     "output_type": "stream",
     "text": [
      "Iteration 1, loss = 1.34905888\n",
      "Iteration 2, loss = 1.04675439\n",
      "Iteration 3, loss = 1.01076066\n",
      "Iteration 4, loss = 0.99786187\n",
      "Iteration 5, loss = 0.98156938\n",
      "Iteration 6, loss = 0.98844070\n",
      "Iteration 7, loss = 0.95807240\n",
      "Iteration 8, loss = 0.95131509\n",
      "Iteration 9, loss = 0.95523799\n",
      "Iteration 10, loss = 0.94671827\n",
      "Iteration 11, loss = 0.92625707\n",
      "Iteration 12, loss = 0.92137301\n",
      "Iteration 13, loss = 0.92025075\n",
      "Iteration 14, loss = 0.89425304\n",
      "Iteration 15, loss = 0.90082937\n",
      "Iteration 16, loss = 0.88649484\n",
      "Iteration 17, loss = 0.88761526\n",
      "Iteration 18, loss = 0.89916118\n",
      "Iteration 19, loss = 0.87750865\n",
      "Iteration 20, loss = 0.86367560\n",
      "Iteration 21, loss = 0.86018417\n",
      "Iteration 22, loss = 0.84177840\n",
      "Iteration 23, loss = 0.83433371\n",
      "Iteration 24, loss = 0.83123333\n",
      "Iteration 25, loss = 0.83825253\n",
      "Iteration 26, loss = 0.83235303\n",
      "Iteration 27, loss = 0.81067179\n",
      "Iteration 28, loss = 0.79958709\n",
      "Iteration 29, loss = 0.79540450\n",
      "Iteration 30, loss = 0.78297575\n",
      "Iteration 31, loss = 0.78561131\n",
      "Iteration 32, loss = 0.77740053\n",
      "Iteration 33, loss = 0.76771847\n",
      "Iteration 34, loss = 0.77312605\n",
      "Iteration 35, loss = 0.77482536\n",
      "Iteration 36, loss = 0.74886681\n",
      "Iteration 37, loss = 0.75406891\n",
      "Iteration 38, loss = 0.74151526\n",
      "Iteration 39, loss = 0.72693485\n",
      "Iteration 40, loss = 0.73544438\n",
      "Iteration 41, loss = 0.74367062\n",
      "Iteration 42, loss = 0.71418462\n",
      "Iteration 43, loss = 0.70777996\n",
      "Iteration 44, loss = 0.70163116\n",
      "Iteration 45, loss = 0.67973064\n",
      "Iteration 46, loss = 0.68439742\n",
      "Iteration 47, loss = 0.67606676\n",
      "Iteration 48, loss = 0.66074663\n",
      "Iteration 49, loss = 0.64940163\n",
      "Iteration 50, loss = 0.66199585\n",
      "Iteration 51, loss = 0.65210416\n",
      "Iteration 52, loss = 0.62343844\n",
      "Iteration 53, loss = 0.64344867\n",
      "Iteration 54, loss = 0.59254017\n",
      "Iteration 55, loss = 0.61664608\n",
      "Iteration 56, loss = 0.59782262\n",
      "Iteration 57, loss = 0.59676475\n",
      "Iteration 58, loss = 0.58246352\n",
      "Iteration 59, loss = 0.63449147\n",
      "Iteration 60, loss = 0.68314267\n",
      "Iteration 61, loss = 0.61791693\n",
      "Iteration 62, loss = 0.60407544\n",
      "Iteration 63, loss = 0.59970306\n",
      "Iteration 64, loss = 0.60744874\n",
      "Iteration 65, loss = 0.59973702\n",
      "Iteration 66, loss = 0.57373970\n",
      "Iteration 67, loss = 0.54808564\n",
      "Iteration 68, loss = 0.55332522\n",
      "Iteration 69, loss = 0.56075282\n",
      "Iteration 70, loss = 0.54762930\n",
      "Iteration 71, loss = 0.53877920\n",
      "Iteration 72, loss = 0.59098698\n",
      "Iteration 73, loss = 0.52407594\n",
      "Iteration 74, loss = 0.54241926\n",
      "Iteration 75, loss = 0.53667627\n",
      "Iteration 76, loss = 0.54916050\n",
      "Iteration 77, loss = 0.52672540\n",
      "Iteration 78, loss = 0.53297776\n",
      "Iteration 79, loss = 0.51812951\n",
      "Iteration 80, loss = 0.54866100\n",
      "Iteration 81, loss = 0.52697938\n",
      "Iteration 82, loss = 0.51254506\n",
      "Iteration 83, loss = 0.51916071\n",
      "Iteration 84, loss = 0.47362396\n",
      "Iteration 85, loss = 0.49989265\n",
      "Iteration 86, loss = 0.47863988\n",
      "Iteration 87, loss = 0.51016365\n",
      "Iteration 88, loss = 0.50686058\n",
      "Iteration 89, loss = 0.47815940\n",
      "Iteration 90, loss = 0.49896261\n",
      "Iteration 91, loss = 0.48982073\n",
      "Iteration 92, loss = 0.49898502\n",
      "Iteration 93, loss = 0.48750282\n",
      "Iteration 94, loss = 0.54772027\n",
      "Iteration 95, loss = 0.47745177\n",
      "Training loss did not improve more than tol=0.000100 for 10 consecutive epochs. Stopping.\n",
      "              precision    recall  f1-score   support\n",
      "\n",
      "           0       0.87      0.93      0.89      2035\n",
      "           1       0.82      0.75      0.79      1977\n",
      "           2       0.79      0.71      0.74      1943\n",
      "           3       0.75      0.84      0.79      1991\n",
      "           4       0.87      0.86      0.86      2054\n",
      "\n",
      "    accuracy                           0.82     10000\n",
      "   macro avg       0.82      0.82      0.82     10000\n",
      "weighted avg       0.82      0.82      0.82     10000\n",
      "\n"
     ]
    }
   ],
   "source": [
    "from sklearn.neural_network import MLPClassifier\n",
    "from sklearn.metrics import classification_report\n",
    "\n",
    "# Define the MLP model\n",
    "mlp_model = MLPClassifier(hidden_layer_sizes=(100,), max_iter=300, alpha=1e-4,\n",
    "                          solver='sgd', verbose=1, random_state=1,\n",
    "                          learning_rate_init=.1)\n",
    "\n",
    "# Train the MLP model\n",
    "mlp_model.fit(train_embeddings, train_labels)\n",
    "\n",
    "# Predict and evaluate\n",
    "predicted_labels_mlp = mlp_model.predict(test_embeddings)\n",
    "print(classification_report(y_true=test_labels, y_pred=predicted_labels_mlp))\n"
   ]
  },
  {
   "cell_type": "code",
   "execution_count": 92,
   "metadata": {},
   "outputs": [
    {
     "name": "stdout",
     "output_type": "stream",
     "text": [
      "              precision    recall  f1-score   support\n",
      "\n",
      "           0       0.87      0.93      0.89      2035\n",
      "           1       0.82      0.75      0.79      1977\n",
      "           2       0.79      0.71      0.74      1943\n",
      "           3       0.75      0.84      0.79      1991\n",
      "           4       0.87      0.86      0.86      2054\n",
      "\n",
      "    accuracy                           0.82     10000\n",
      "   macro avg       0.82      0.82      0.82     10000\n",
      "weighted avg       0.82      0.82      0.82     10000\n",
      "\n"
     ]
    }
   ],
   "source": [
    "print(classification_report(y_true=test_labels, y_pred=predicted_labels_mlp))"
   ]
  },
  {
   "cell_type": "markdown",
   "metadata": {},
   "source": [
    "## The Text Embedding Pipeline"
   ]
  },
  {
   "cell_type": "code",
   "execution_count": 1,
   "metadata": {},
   "outputs": [
    {
     "data": {
      "application/vnd.jupyter.widget-view+json": {
       "model_id": "3d875ff884ec4018835ec5f8c4c6427f",
       "version_major": 2,
       "version_minor": 0
      },
      "text/plain": [
       "Saving the dataset (0/1 shards):   0%|          | 0/1000 [00:00<?, ? examples/s]"
      ]
     },
     "metadata": {},
     "output_type": "display_data"
    },
    {
     "data": {
      "application/vnd.jupyter.widget-view+json": {
       "model_id": "60f62152334c409bbf4a43c3548dabc0",
       "version_major": 2,
       "version_minor": 0
      },
      "text/plain": [
       "Saving the dataset (0/1 shards):   0%|          | 0/1000 [00:00<?, ? examples/s]"
      ]
     },
     "metadata": {},
     "output_type": "display_data"
    },
    {
     "name": "stdout",
     "output_type": "stream",
     "text": [
      "Data loaded and sampled.\n",
      "Local data loaded.\n"
     ]
    },
    {
     "data": {
      "application/vnd.jupyter.widget-view+json": {
       "model_id": "68007f40dda74a4f8e18bd58d3fb6db5",
       "version_major": 2,
       "version_minor": 0
      },
      "text/plain": [
       "Map:   0%|          | 0/1000 [00:00<?, ? examples/s]"
      ]
     },
     "metadata": {},
     "output_type": "display_data"
    },
    {
     "data": {
      "application/vnd.jupyter.widget-view+json": {
       "model_id": "54aff70a1d5343e2a7fb87f6892c95a1",
       "version_major": 2,
       "version_minor": 0
      },
      "text/plain": [
       "Map:   0%|          | 0/1000 [00:00<?, ? examples/s]"
      ]
     },
     "metadata": {},
     "output_type": "display_data"
    },
    {
     "name": "stdout",
     "output_type": "stream",
     "text": [
      "Data augmented with prefixes and suffixes.\n"
     ]
    },
    {
     "data": {
      "application/vnd.jupyter.widget-view+json": {
       "model_id": "54c6df267c544bc3a865943cc95861c1",
       "version_major": 2,
       "version_minor": 0
      },
      "text/plain": [
       "Embedding text:   0%|          | 0/1000 [00:00<?, ?it/s]"
      ]
     },
     "metadata": {},
     "output_type": "display_data"
    },
    {
     "name": "stderr",
     "output_type": "stream",
     "text": [
      "c:\\Users\\Voice\\anaconda3\\envs\\embed\\Lib\\site-packages\\transformers\\models\\bert\\modeling_bert.py:435: UserWarning: 1Torch was not compiled with flash attention. (Triggered internally at C:\\cb\\pytorch_1000000000000\\work\\aten\\src\\ATen\\native\\transformers\\cuda\\sdp_utils.cpp:455.)\n",
      "  attn_output = torch.nn.functional.scaled_dot_product_attention(\n"
     ]
    },
    {
     "name": "stdout",
     "output_type": "stream",
     "text": [
      "Embeddings and labels saved at 05-27_09:10.\n",
      "Data loaded for model: BERT\n",
      "SVM Evaluation Report:\n",
      "              precision    recall  f1-score   support\n",
      "\n",
      "           0       0.88      0.89      0.89       104\n",
      "           1       0.88      0.86      0.87        96\n",
      "\n",
      "    accuracy                           0.88       200\n",
      "   macro avg       0.88      0.88      0.88       200\n",
      "weighted avg       0.88      0.88      0.88       200\n",
      "\n"
     ]
    }
   ],
   "source": [
    "from TextEmbeddingPipeline import EmbedFlow\n",
    "\n",
    "flow = EmbedFlow(model_name=\"BERT\", dataset_name=\"IMDB\", prefix=\"Prefix: \", suffix=\" :Suffix\")\n",
    "\n",
    "flow.start_flow(sample_size=1000, use_mean_pooling=True, method='svm')\n"
   ]
  }
 ],
 "metadata": {
  "kernelspec": {
   "display_name": "embed",
   "language": "python",
   "name": "python3"
  },
  "language_info": {
   "codemirror_mode": {
    "name": "ipython",
    "version": 3
   },
   "file_extension": ".py",
   "mimetype": "text/x-python",
   "name": "python",
   "nbconvert_exporter": "python",
   "pygments_lexer": "ipython3",
   "version": "3.12.3"
  }
 },
 "nbformat": 4,
 "nbformat_minor": 2
}
