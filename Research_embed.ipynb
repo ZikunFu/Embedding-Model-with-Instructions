{
 "cells": [
  {
   "cell_type": "markdown",
   "metadata": {},
   "source": [
    "# Embedding Model with Instructions"
   ]
  },
  {
   "cell_type": "markdown",
   "metadata": {},
   "source": [
    "## Datasets\n",
    "- IMDB Review\n",
    "    - stanfordnlp/imdb\n",
    "    - The IMDB dataset is a large dataset of movie reviews used for sentiment analysis. Labeled as positive or negative\n",
    "        - **Train**: Contains 25,000 labeled reviews for training\n",
    "        - **Test**: Contains 25,000 labeled reviews for evaluating\n",
    "- Yelp Review\n",
    "    - yelp_review_full\n",
    "    - The Yelp reviews dataset consists of reviews from Yelp. It is extracted from the Yelp Dataset Challenge 2015 data. Labeled from 1 star to 5 star\n",
    "        - **Train**: Contains 650,000 labeled reviews for training\n",
    "        - **Test**: Contains 50,000 labeled reviews for evaluating"
   ]
  },
  {
   "cell_type": "code",
   "execution_count": 6,
   "metadata": {},
   "outputs": [],
   "source": [
    "def display_dataset_info(dataset):\n",
    "    info = dataset.info\n",
    "    dataset_name = info.dataset_name\n",
    "    splits_info = info.splits\n",
    "    features = info.features\n",
    "    print(f\"Dataset Name: {dataset_name}\")\n",
    "    print(\"Splits Info:\")\n",
    "    for split_name, split_info in splits_info.items():\n",
    "        num_examples = split_info.num_examples\n",
    "        print(f\" - Split: {split_name}, Num Examples: {num_examples}\")\n",
    "    print(\"Features:\")\n",
    "    for feature_name, feature_info in features.items():\n",
    "        print(f\" - {feature_name}: {feature_info}\")"
   ]
  },
  {
   "cell_type": "markdown",
   "metadata": {},
   "source": [
    "### Save Data to disk\n",
    "- Retrieve Dataset\n",
    "- Save (sampled) dataset to disk"
   ]
  },
  {
   "cell_type": "code",
   "execution_count": 8,
   "metadata": {},
   "outputs": [
    {
     "name": "stdout",
     "output_type": "stream",
     "text": [
      "Dataset Name: imdb\n",
      "Splits Info:\n",
      " - Split: train, Num Examples: 25000\n",
      " - Split: test, Num Examples: 25000\n",
      " - Split: unsupervised, Num Examples: 50000\n",
      "Features:\n",
      " - text: Value(dtype='string', id=None)\n",
      " - label: ClassLabel(names=['neg', 'pos'], id=None)\n"
     ]
    },
    {
     "data": {
      "application/vnd.jupyter.widget-view+json": {
       "model_id": "c969214bfe5b4ba381e3935a86dedef7",
       "version_major": 2,
       "version_minor": 0
      },
      "text/plain": [
       "Saving the dataset (0/1 shards):   0%|          | 0/25000 [00:00<?, ? examples/s]"
      ]
     },
     "metadata": {},
     "output_type": "display_data"
    },
    {
     "data": {
      "application/vnd.jupyter.widget-view+json": {
       "model_id": "fefa7d28403b4f01976bbb71deb8210b",
       "version_major": 2,
       "version_minor": 0
      },
      "text/plain": [
       "Saving the dataset (0/1 shards):   0%|          | 0/25000 [00:00<?, ? examples/s]"
      ]
     },
     "metadata": {},
     "output_type": "display_data"
    }
   ],
   "source": [
    "from datasets import load_dataset\n",
    "import os\n",
    "\n",
    "def save_dataset(random_sample_size=1000, save_path='sampled_datasets'):  \n",
    "    # Load the dataset\n",
    "    dataset_name = 'stanfordnlp/imdb'\n",
    "    dataset = load_dataset(dataset_name)\n",
    "    display_dataset_info(dataset['test'])\n",
    "    # Access the train, test splits\n",
    "    train_dataset = dataset['train']\n",
    "    test_dataset = dataset['test']\n",
    "\n",
    "    # Random sample the dataset, only use random_sample_size\n",
    "    if(random_sample_size != 0):\n",
    "        train_dataset = train_dataset.shuffle(seed=42).select(range(random_sample_size))\n",
    "        test_dataset = test_dataset.shuffle(seed=42).select(range(random_sample_size))\n",
    "\n",
    "    train_save_path = os.path.join(save_path, f\"{dataset_name}_train_{random_sample_size}\")\n",
    "    test_save_path = os.path.join(save_path, f\"{dataset_name}_test_{random_sample_size}\")\n",
    "\n",
    "    train_dataset.save_to_disk(train_save_path)\n",
    "    test_dataset.save_to_disk(test_save_path)\n",
    "\n",
    "save_dataset(random_sample_size=0)"
   ]
  },
  {
   "cell_type": "markdown",
   "metadata": {},
   "source": [
    "### Load Local Dataset\n",
    "- Load dataset from disk"
   ]
  },
  {
   "cell_type": "code",
   "execution_count": 9,
   "metadata": {},
   "outputs": [
    {
     "name": "stdout",
     "output_type": "stream",
     "text": [
      ">>Train Dataset loaded<<\n",
      "Text: I rented I AM CURIOUS-YELLOW from my video store because of all the\n",
      "controversy that surrounded it when it was first released in 1967. I\n",
      "also heard that at first it was seized by U.S. customs if it ev \n",
      "Label: 0\n",
      "\n",
      ">>Test Dataset loaded<<\n",
      "Text: I love sci-fi and am willing to put up with a lot. Sci-fi movies/TV\n",
      "are usually underfunded, under-appreciated and misunderstood. I tried\n",
      "to like this, I really did, but it is to good TV sci-fi as Bab \n",
      "Label: 0\n"
     ]
    }
   ],
   "source": [
    "from datasets import load_from_disk\n",
    "import textwrap, os\n",
    "\n",
    "def load_dataset_from_disk(save_path='sampled_datasets/stanfordnlp', train_path='imdb_train_0', test_path='imdb_test_0'):\n",
    "    try:\n",
    "        train_save_path = os.path.join(save_path, train_path)\n",
    "        test_save_path = os.path.join(save_path, test_path)\n",
    "\n",
    "        train_dataset = load_from_disk(train_save_path)\n",
    "        test_dataset = load_from_disk(test_save_path)\n",
    "        \n",
    "        print(\">>Train Dataset loaded<<\")\n",
    "        # Print a sample from the loaded datasets to verify\n",
    "        print(\"Text:\", textwrap.fill(train_dataset[0][\"text\"][0:200]), \"\\nLabel:\", train_dataset[0][\"label\"])\n",
    "        \n",
    "        print(\"\\n>>Test Dataset loaded<<\")\n",
    "        # Print a sample from the loaded test datasets to verify\n",
    "        print(\"Text:\", textwrap.fill(test_dataset[0][\"text\"][0:200]), \"\\nLabel:\", test_dataset[0][\"label\"])\n",
    "        return train_dataset, test_dataset\n",
    "    except Exception as e:\n",
    "        print(f\"Error: {e}\")\n",
    "    return train_dataset, test_dataset\n",
    "\n",
    "train_dataset, test_dataset = load_dataset_from_disk()"
   ]
  },
  {
   "cell_type": "markdown",
   "metadata": {},
   "source": [
    "## Text Embedding Models\n",
    "\n",
    "- **BERT** (Bidirectional Encoder Representations from Transformers)\n",
    "    - Retrieved from [Hugging Face](https://huggingface.co/google-bert/bert-base-uncased)\n",
    "\n",
    "- **Sentence Transformer** (all-MiniLM-L12-v2)\n",
    "    - Retrieved from [Hugging Face](https://huggingface.co/sentence-transformers/all-MiniLM-L12-v2)\n",
    "\n",
    "- **T5** (Text-To-Text Transfer Transformer)\n",
    "    - Retrieved from [Hugging Face](https://huggingface.co/google-t5/t5-base)\n",
    "\n",
    "- **Instructor**\n",
    "    - Retrieved from [Hugging Face](https://huggingface.co/hkunlp/instructor-large)"
   ]
  },
  {
   "cell_type": "code",
   "execution_count": 10,
   "metadata": {},
   "outputs": [],
   "source": [
    "import torch\n",
    "from transformers import pipeline\n",
    "device = 0 if torch.cuda.is_available() else -1\n",
    "\n",
    "model_BERT = pipeline(\"feature-extraction\", model=\"google-bert/bert-base-uncased\", device=device)\n",
    "#model_ST = pipeline(\"feature-extraction\", model=\"sentence-transformers/all-MiniLM-L12-v2\", device=device)\n",
    "#model_T5 = pipeline(\"feature-extraction\", model=\"google-t5/t5-base\", device=device)\n",
    "#model_INS = pipeline(\"feature-extraction\", model=\"hkunlp/instructor-large\", device=device)"
   ]
  },
  {
   "cell_type": "markdown",
   "metadata": {},
   "source": [
    "- Helper function using the provided embedding model to encode text\n",
    "- returns Array of Tensors and labels"
   ]
  },
  {
   "cell_type": "code",
   "execution_count": 11,
   "metadata": {},
   "outputs": [],
   "source": [
    "from tqdm.auto import tqdm\n",
    "from transformers.pipelines.pt_utils import KeyDataset\n",
    "import numpy as np\n",
    "\n",
    "def process_dataset(model, dataset, key, truncation=False, padding=False, max_length=0, use_mean_pooling=False):\n",
    "    data = KeyDataset(dataset, key)\n",
    "    pipe = model(data, return_tensors=True, truncation=truncation, padding=padding, max_length=max_length)\n",
    "    embeddings=[]\n",
    "    for tensor in tqdm(pipe, desc=\"Encoding text\"): \n",
    "        # Use mean pooling to 1 dim for classification\n",
    "        if(use_mean_pooling):\n",
    "            tensor = tensor.mean(dim=1)\n",
    "            tensor = tensor.flatten()\n",
    "        embeddings.append(tensor)\n",
    "    return np.array(embeddings), np.array(dataset[\"label\"])"
   ]
  },
  {
   "cell_type": "markdown",
   "metadata": {},
   "source": [
    "Augment dataset with instructions"
   ]
  },
  {
   "cell_type": "code",
   "execution_count": 17,
   "metadata": {},
   "outputs": [
    {
     "name": "stdout",
     "output_type": "stream",
     "text": [
      "u5WANHyPWKjbReQwcVbqFXUrrb2O9T1RI rented I AM CURIOUS-YELLOW\n",
      "from my video store because of all the  ..... f Swedish\n",
      "cinema. But really, this film doesn't have much of a\n",
      "plot.xDXH6SMb8foK7crrw8rBqiKZ4Dau0rXn\n"
     ]
    }
   ],
   "source": [
    "import textwrap\n",
    "\n",
    "def modify_dataset(example):\n",
    "    example['text'] = \"u5WANHyPWKjbReQwcVbqFXUrrb2O9T1R\" + example['text'] + \"xDXH6SMb8foK7crrw8rBqiKZ4Dau0rXn\"\n",
    "    return example\n",
    "\n",
    "# Apply the function to the dataset\n",
    "train_dataset_aug = train_dataset.map(modify_dataset)\n",
    "\n",
    "# Check the first review\n",
    "example = train_dataset_aug['text'][0][:100] + \" ..... \" + train_dataset_aug['text'][0][-100:]\n",
    "print(textwrap.fill(example, width=60))"
   ]
  },
  {
   "cell_type": "markdown",
   "metadata": {},
   "source": [
    "Embed `train_dataset` and `test_dataset` then save them to disk\n",
    "- CPU 10 it/s\n",
    "- GPU 100 it/s"
   ]
  },
  {
   "cell_type": "code",
   "execution_count": 18,
   "metadata": {},
   "outputs": [
    {
     "data": {
      "application/vnd.jupyter.widget-view+json": {
       "model_id": "e78c3c9184574e8ba522a90c65cdcaf8",
       "version_major": 2,
       "version_minor": 0
      },
      "text/plain": [
       "Encoding text:   0%|          | 0/25000 [00:00<?, ?it/s]"
      ]
     },
     "metadata": {},
     "output_type": "display_data"
    },
    {
     "name": "stderr",
     "output_type": "stream",
     "text": [
      "c:\\Users\\Voice\\anaconda3\\envs\\embed\\Lib\\site-packages\\transformers\\models\\bert\\modeling_bert.py:435: UserWarning: 1Torch was not compiled with flash attention. (Triggered internally at C:\\cb\\pytorch_1000000000000\\work\\aten\\src\\ATen\\native\\transformers\\cuda\\sdp_utils.cpp:455.)\n",
      "  attn_output = torch.nn.functional.scaled_dot_product_attention(\n"
     ]
    },
    {
     "data": {
      "application/vnd.jupyter.widget-view+json": {
       "model_id": "18244f019dae4e3098ad5b70b75b7daa",
       "version_major": 2,
       "version_minor": 0
      },
      "text/plain": [
       "Encoding text:   0%|          | 0/25000 [00:00<?, ?it/s]"
      ]
     },
     "metadata": {},
     "output_type": "display_data"
    }
   ],
   "source": [
    "train_embeddings, train_labels = process_dataset(dataset=train_dataset, model=model_BERT, key=\"text\", \n",
    "                                                 truncation=True, padding=True, max_length=512,use_mean_pooling=True)\n",
    "test_embeddings, test_labels = process_dataset(dataset=train_dataset, model=model_BERT, key=\"text\", \n",
    "                                               truncation=True, padding=True, max_length=512,use_mean_pooling=True)"
   ]
  },
  {
   "cell_type": "markdown",
   "metadata": {},
   "source": [
    "This is not required to run if loading from disk"
   ]
  },
  {
   "cell_type": "code",
   "execution_count": 80,
   "metadata": {},
   "outputs": [],
   "source": [
    "from datetime import datetime\n",
    "import os, json\n",
    "def save_embeddings(embeddings, model_name, save_path=\"data\"):\n",
    "    timestamp = datetime.now().strftime(\"%m-%d_%H:%M\")\n",
    "    # Calculate the average shape of tensors\n",
    "    tensor_shapes = [tensor.shape for tensor in embeddings]\n",
    "    avg_shape = np.mean(tensor_shapes, axis=0).tolist()\n",
    "    \n",
    "    embedding_info = {\n",
    "        'model_name': model_name,\n",
    "        'num_embeddings': len(embeddings),\n",
    "        'avg_embedding_shape': avg_shape,\n",
    "        'created_at': timestamp\n",
    "    }\n",
    "    \n",
    "    os.makedirs(save_path, exist_ok=True)\n",
    "    embedding_file = os.path.join(save_path, f\"{model_name}_embeddings.npy\")\n",
    "    metadata_file = os.path.join(save_path, f\"{model_name}_metadata.json\")\n",
    "    \n",
    "    np.save(embedding_file, embeddings)\n",
    "\n",
    "    with open(metadata_file, 'w') as f:\n",
    "        json.dump(embedding_info, f)\n",
    "    \n",
    "    print(f\"Embeddings and metadata saved for {model_name} at {timestamp}\")"
   ]
  },
  {
   "cell_type": "code",
   "execution_count": 81,
   "metadata": {},
   "outputs": [],
   "source": [
    "def load_embeddings(embedding_file, metadata_file):\n",
    "    embeddings = np.load(embedding_file)\n",
    "    with open(metadata_file, 'r') as f:\n",
    "        metadata = json.load(f)\n",
    "    \n",
    "    print(f\"Loaded embeddings from model: {metadata['model_name']}\")\n",
    "    print(f\"Number of embeddings: {metadata['num_embeddings']}\")\n",
    "    print(f\"Average embedding shape: {metadata['avg_embedding_shape']}\")\n",
    "    print(f\"Created at: {metadata['created_at']}\")\n",
    "    \n",
    "    return embeddings"
   ]
  },
  {
   "cell_type": "code",
   "execution_count": 82,
   "metadata": {},
   "outputs": [
    {
     "name": "stdout",
     "output_type": "stream",
     "text": [
      "Embeddings and metadata saved for BERT at 05-27_12:23\n"
     ]
    }
   ],
   "source": [
    "save_path=\"data\"\n",
    "model_name=\"BERT\"\n",
    "save_embeddings(train_embeddings, model_name, save_path)"
   ]
  },
  {
   "cell_type": "markdown",
   "metadata": {},
   "source": [
    "Load embedding from disk"
   ]
  },
  {
   "cell_type": "code",
   "execution_count": 83,
   "metadata": {},
   "outputs": [
    {
     "name": "stdout",
     "output_type": "stream",
     "text": [
      "Loaded embeddings from model: BERT\n",
      "Number of embeddings: 10000\n",
      "Average embedding shape: [768.0]\n",
      "Created at: 05-27_12:23\n"
     ]
    },
    {
     "data": {
      "text/plain": [
       "array([[ 0.33487466,  0.18951571,  0.16997708, ..., -0.14543127,\n",
       "         0.18289806, -0.05866966],\n",
       "       [ 0.12900904,  0.15694778,  0.7177404 , ..., -0.11730668,\n",
       "         0.20632458,  0.12624525],\n",
       "       [ 0.29783016,  0.17169824,  0.4370483 , ..., -0.16575865,\n",
       "         0.21610147, -0.13894227],\n",
       "       ...,\n",
       "       [ 0.33479112,  0.19027473,  0.19242047, ..., -0.05238853,\n",
       "         0.05621795,  0.01344509],\n",
       "       [ 0.19905636,  0.1317051 ,  0.54959613, ..., -0.09682898,\n",
       "         0.20079939,  0.08876501],\n",
       "       [ 0.02522485,  0.07287347,  0.52920115, ..., -0.04332894,\n",
       "         0.10391848,  0.15221924]], dtype=float32)"
      ]
     },
     "execution_count": 83,
     "metadata": {},
     "output_type": "execute_result"
    }
   ],
   "source": [
    "save_path=\"data\"\n",
    "model_name=\"BERT\"\n",
    "\n",
    "embedding_file = os.path.join(save_path, f\"{model_name}_embeddings.npy\")\n",
    "metadata_file = os.path.join(save_path, f\"{model_name}_metadata.json\")\n",
    "load_embeddings(embedding_file,metadata_file)"
   ]
  },
  {
   "cell_type": "markdown",
   "metadata": {},
   "source": [
    "### Train classifiers to evaluate Embedding performance\n",
    "- Linear\n",
    "    - SVM\n",
    "- Non-Lienar\n",
    "    - MLP"
   ]
  },
  {
   "cell_type": "markdown",
   "metadata": {},
   "source": [
    "Train SVM model using `train_embeddings` and `train_labels`"
   ]
  },
  {
   "cell_type": "code",
   "execution_count": 19,
   "metadata": {},
   "outputs": [
    {
     "data": {
      "text/html": [
       "<style>#sk-container-id-1 {\n",
       "  /* Definition of color scheme common for light and dark mode */\n",
       "  --sklearn-color-text: black;\n",
       "  --sklearn-color-line: gray;\n",
       "  /* Definition of color scheme for unfitted estimators */\n",
       "  --sklearn-color-unfitted-level-0: #fff5e6;\n",
       "  --sklearn-color-unfitted-level-1: #f6e4d2;\n",
       "  --sklearn-color-unfitted-level-2: #ffe0b3;\n",
       "  --sklearn-color-unfitted-level-3: chocolate;\n",
       "  /* Definition of color scheme for fitted estimators */\n",
       "  --sklearn-color-fitted-level-0: #f0f8ff;\n",
       "  --sklearn-color-fitted-level-1: #d4ebff;\n",
       "  --sklearn-color-fitted-level-2: #b3dbfd;\n",
       "  --sklearn-color-fitted-level-3: cornflowerblue;\n",
       "\n",
       "  /* Specific color for light theme */\n",
       "  --sklearn-color-text-on-default-background: var(--sg-text-color, var(--theme-code-foreground, var(--jp-content-font-color1, black)));\n",
       "  --sklearn-color-background: var(--sg-background-color, var(--theme-background, var(--jp-layout-color0, white)));\n",
       "  --sklearn-color-border-box: var(--sg-text-color, var(--theme-code-foreground, var(--jp-content-font-color1, black)));\n",
       "  --sklearn-color-icon: #696969;\n",
       "\n",
       "  @media (prefers-color-scheme: dark) {\n",
       "    /* Redefinition of color scheme for dark theme */\n",
       "    --sklearn-color-text-on-default-background: var(--sg-text-color, var(--theme-code-foreground, var(--jp-content-font-color1, white)));\n",
       "    --sklearn-color-background: var(--sg-background-color, var(--theme-background, var(--jp-layout-color0, #111)));\n",
       "    --sklearn-color-border-box: var(--sg-text-color, var(--theme-code-foreground, var(--jp-content-font-color1, white)));\n",
       "    --sklearn-color-icon: #878787;\n",
       "  }\n",
       "}\n",
       "\n",
       "#sk-container-id-1 {\n",
       "  color: var(--sklearn-color-text);\n",
       "}\n",
       "\n",
       "#sk-container-id-1 pre {\n",
       "  padding: 0;\n",
       "}\n",
       "\n",
       "#sk-container-id-1 input.sk-hidden--visually {\n",
       "  border: 0;\n",
       "  clip: rect(1px 1px 1px 1px);\n",
       "  clip: rect(1px, 1px, 1px, 1px);\n",
       "  height: 1px;\n",
       "  margin: -1px;\n",
       "  overflow: hidden;\n",
       "  padding: 0;\n",
       "  position: absolute;\n",
       "  width: 1px;\n",
       "}\n",
       "\n",
       "#sk-container-id-1 div.sk-dashed-wrapped {\n",
       "  border: 1px dashed var(--sklearn-color-line);\n",
       "  margin: 0 0.4em 0.5em 0.4em;\n",
       "  box-sizing: border-box;\n",
       "  padding-bottom: 0.4em;\n",
       "  background-color: var(--sklearn-color-background);\n",
       "}\n",
       "\n",
       "#sk-container-id-1 div.sk-container {\n",
       "  /* jupyter's `normalize.less` sets `[hidden] { display: none; }`\n",
       "     but bootstrap.min.css set `[hidden] { display: none !important; }`\n",
       "     so we also need the `!important` here to be able to override the\n",
       "     default hidden behavior on the sphinx rendered scikit-learn.org.\n",
       "     See: https://github.com/scikit-learn/scikit-learn/issues/21755 */\n",
       "  display: inline-block !important;\n",
       "  position: relative;\n",
       "}\n",
       "\n",
       "#sk-container-id-1 div.sk-text-repr-fallback {\n",
       "  display: none;\n",
       "}\n",
       "\n",
       "div.sk-parallel-item,\n",
       "div.sk-serial,\n",
       "div.sk-item {\n",
       "  /* draw centered vertical line to link estimators */\n",
       "  background-image: linear-gradient(var(--sklearn-color-text-on-default-background), var(--sklearn-color-text-on-default-background));\n",
       "  background-size: 2px 100%;\n",
       "  background-repeat: no-repeat;\n",
       "  background-position: center center;\n",
       "}\n",
       "\n",
       "/* Parallel-specific style estimator block */\n",
       "\n",
       "#sk-container-id-1 div.sk-parallel-item::after {\n",
       "  content: \"\";\n",
       "  width: 100%;\n",
       "  border-bottom: 2px solid var(--sklearn-color-text-on-default-background);\n",
       "  flex-grow: 1;\n",
       "}\n",
       "\n",
       "#sk-container-id-1 div.sk-parallel {\n",
       "  display: flex;\n",
       "  align-items: stretch;\n",
       "  justify-content: center;\n",
       "  background-color: var(--sklearn-color-background);\n",
       "  position: relative;\n",
       "}\n",
       "\n",
       "#sk-container-id-1 div.sk-parallel-item {\n",
       "  display: flex;\n",
       "  flex-direction: column;\n",
       "}\n",
       "\n",
       "#sk-container-id-1 div.sk-parallel-item:first-child::after {\n",
       "  align-self: flex-end;\n",
       "  width: 50%;\n",
       "}\n",
       "\n",
       "#sk-container-id-1 div.sk-parallel-item:last-child::after {\n",
       "  align-self: flex-start;\n",
       "  width: 50%;\n",
       "}\n",
       "\n",
       "#sk-container-id-1 div.sk-parallel-item:only-child::after {\n",
       "  width: 0;\n",
       "}\n",
       "\n",
       "/* Serial-specific style estimator block */\n",
       "\n",
       "#sk-container-id-1 div.sk-serial {\n",
       "  display: flex;\n",
       "  flex-direction: column;\n",
       "  align-items: center;\n",
       "  background-color: var(--sklearn-color-background);\n",
       "  padding-right: 1em;\n",
       "  padding-left: 1em;\n",
       "}\n",
       "\n",
       "\n",
       "/* Toggleable style: style used for estimator/Pipeline/ColumnTransformer box that is\n",
       "clickable and can be expanded/collapsed.\n",
       "- Pipeline and ColumnTransformer use this feature and define the default style\n",
       "- Estimators will overwrite some part of the style using the `sk-estimator` class\n",
       "*/\n",
       "\n",
       "/* Pipeline and ColumnTransformer style (default) */\n",
       "\n",
       "#sk-container-id-1 div.sk-toggleable {\n",
       "  /* Default theme specific background. It is overwritten whether we have a\n",
       "  specific estimator or a Pipeline/ColumnTransformer */\n",
       "  background-color: var(--sklearn-color-background);\n",
       "}\n",
       "\n",
       "/* Toggleable label */\n",
       "#sk-container-id-1 label.sk-toggleable__label {\n",
       "  cursor: pointer;\n",
       "  display: block;\n",
       "  width: 100%;\n",
       "  margin-bottom: 0;\n",
       "  padding: 0.5em;\n",
       "  box-sizing: border-box;\n",
       "  text-align: center;\n",
       "}\n",
       "\n",
       "#sk-container-id-1 label.sk-toggleable__label-arrow:before {\n",
       "  /* Arrow on the left of the label */\n",
       "  content: \"▸\";\n",
       "  float: left;\n",
       "  margin-right: 0.25em;\n",
       "  color: var(--sklearn-color-icon);\n",
       "}\n",
       "\n",
       "#sk-container-id-1 label.sk-toggleable__label-arrow:hover:before {\n",
       "  color: var(--sklearn-color-text);\n",
       "}\n",
       "\n",
       "/* Toggleable content - dropdown */\n",
       "\n",
       "#sk-container-id-1 div.sk-toggleable__content {\n",
       "  max-height: 0;\n",
       "  max-width: 0;\n",
       "  overflow: hidden;\n",
       "  text-align: left;\n",
       "  /* unfitted */\n",
       "  background-color: var(--sklearn-color-unfitted-level-0);\n",
       "}\n",
       "\n",
       "#sk-container-id-1 div.sk-toggleable__content.fitted {\n",
       "  /* fitted */\n",
       "  background-color: var(--sklearn-color-fitted-level-0);\n",
       "}\n",
       "\n",
       "#sk-container-id-1 div.sk-toggleable__content pre {\n",
       "  margin: 0.2em;\n",
       "  border-radius: 0.25em;\n",
       "  color: var(--sklearn-color-text);\n",
       "  /* unfitted */\n",
       "  background-color: var(--sklearn-color-unfitted-level-0);\n",
       "}\n",
       "\n",
       "#sk-container-id-1 div.sk-toggleable__content.fitted pre {\n",
       "  /* unfitted */\n",
       "  background-color: var(--sklearn-color-fitted-level-0);\n",
       "}\n",
       "\n",
       "#sk-container-id-1 input.sk-toggleable__control:checked~div.sk-toggleable__content {\n",
       "  /* Expand drop-down */\n",
       "  max-height: 200px;\n",
       "  max-width: 100%;\n",
       "  overflow: auto;\n",
       "}\n",
       "\n",
       "#sk-container-id-1 input.sk-toggleable__control:checked~label.sk-toggleable__label-arrow:before {\n",
       "  content: \"▾\";\n",
       "}\n",
       "\n",
       "/* Pipeline/ColumnTransformer-specific style */\n",
       "\n",
       "#sk-container-id-1 div.sk-label input.sk-toggleable__control:checked~label.sk-toggleable__label {\n",
       "  color: var(--sklearn-color-text);\n",
       "  background-color: var(--sklearn-color-unfitted-level-2);\n",
       "}\n",
       "\n",
       "#sk-container-id-1 div.sk-label.fitted input.sk-toggleable__control:checked~label.sk-toggleable__label {\n",
       "  background-color: var(--sklearn-color-fitted-level-2);\n",
       "}\n",
       "\n",
       "/* Estimator-specific style */\n",
       "\n",
       "/* Colorize estimator box */\n",
       "#sk-container-id-1 div.sk-estimator input.sk-toggleable__control:checked~label.sk-toggleable__label {\n",
       "  /* unfitted */\n",
       "  background-color: var(--sklearn-color-unfitted-level-2);\n",
       "}\n",
       "\n",
       "#sk-container-id-1 div.sk-estimator.fitted input.sk-toggleable__control:checked~label.sk-toggleable__label {\n",
       "  /* fitted */\n",
       "  background-color: var(--sklearn-color-fitted-level-2);\n",
       "}\n",
       "\n",
       "#sk-container-id-1 div.sk-label label.sk-toggleable__label,\n",
       "#sk-container-id-1 div.sk-label label {\n",
       "  /* The background is the default theme color */\n",
       "  color: var(--sklearn-color-text-on-default-background);\n",
       "}\n",
       "\n",
       "/* On hover, darken the color of the background */\n",
       "#sk-container-id-1 div.sk-label:hover label.sk-toggleable__label {\n",
       "  color: var(--sklearn-color-text);\n",
       "  background-color: var(--sklearn-color-unfitted-level-2);\n",
       "}\n",
       "\n",
       "/* Label box, darken color on hover, fitted */\n",
       "#sk-container-id-1 div.sk-label.fitted:hover label.sk-toggleable__label.fitted {\n",
       "  color: var(--sklearn-color-text);\n",
       "  background-color: var(--sklearn-color-fitted-level-2);\n",
       "}\n",
       "\n",
       "/* Estimator label */\n",
       "\n",
       "#sk-container-id-1 div.sk-label label {\n",
       "  font-family: monospace;\n",
       "  font-weight: bold;\n",
       "  display: inline-block;\n",
       "  line-height: 1.2em;\n",
       "}\n",
       "\n",
       "#sk-container-id-1 div.sk-label-container {\n",
       "  text-align: center;\n",
       "}\n",
       "\n",
       "/* Estimator-specific */\n",
       "#sk-container-id-1 div.sk-estimator {\n",
       "  font-family: monospace;\n",
       "  border: 1px dotted var(--sklearn-color-border-box);\n",
       "  border-radius: 0.25em;\n",
       "  box-sizing: border-box;\n",
       "  margin-bottom: 0.5em;\n",
       "  /* unfitted */\n",
       "  background-color: var(--sklearn-color-unfitted-level-0);\n",
       "}\n",
       "\n",
       "#sk-container-id-1 div.sk-estimator.fitted {\n",
       "  /* fitted */\n",
       "  background-color: var(--sklearn-color-fitted-level-0);\n",
       "}\n",
       "\n",
       "/* on hover */\n",
       "#sk-container-id-1 div.sk-estimator:hover {\n",
       "  /* unfitted */\n",
       "  background-color: var(--sklearn-color-unfitted-level-2);\n",
       "}\n",
       "\n",
       "#sk-container-id-1 div.sk-estimator.fitted:hover {\n",
       "  /* fitted */\n",
       "  background-color: var(--sklearn-color-fitted-level-2);\n",
       "}\n",
       "\n",
       "/* Specification for estimator info (e.g. \"i\" and \"?\") */\n",
       "\n",
       "/* Common style for \"i\" and \"?\" */\n",
       "\n",
       ".sk-estimator-doc-link,\n",
       "a:link.sk-estimator-doc-link,\n",
       "a:visited.sk-estimator-doc-link {\n",
       "  float: right;\n",
       "  font-size: smaller;\n",
       "  line-height: 1em;\n",
       "  font-family: monospace;\n",
       "  background-color: var(--sklearn-color-background);\n",
       "  border-radius: 1em;\n",
       "  height: 1em;\n",
       "  width: 1em;\n",
       "  text-decoration: none !important;\n",
       "  margin-left: 1ex;\n",
       "  /* unfitted */\n",
       "  border: var(--sklearn-color-unfitted-level-1) 1pt solid;\n",
       "  color: var(--sklearn-color-unfitted-level-1);\n",
       "}\n",
       "\n",
       ".sk-estimator-doc-link.fitted,\n",
       "a:link.sk-estimator-doc-link.fitted,\n",
       "a:visited.sk-estimator-doc-link.fitted {\n",
       "  /* fitted */\n",
       "  border: var(--sklearn-color-fitted-level-1) 1pt solid;\n",
       "  color: var(--sklearn-color-fitted-level-1);\n",
       "}\n",
       "\n",
       "/* On hover */\n",
       "div.sk-estimator:hover .sk-estimator-doc-link:hover,\n",
       ".sk-estimator-doc-link:hover,\n",
       "div.sk-label-container:hover .sk-estimator-doc-link:hover,\n",
       ".sk-estimator-doc-link:hover {\n",
       "  /* unfitted */\n",
       "  background-color: var(--sklearn-color-unfitted-level-3);\n",
       "  color: var(--sklearn-color-background);\n",
       "  text-decoration: none;\n",
       "}\n",
       "\n",
       "div.sk-estimator.fitted:hover .sk-estimator-doc-link.fitted:hover,\n",
       ".sk-estimator-doc-link.fitted:hover,\n",
       "div.sk-label-container:hover .sk-estimator-doc-link.fitted:hover,\n",
       ".sk-estimator-doc-link.fitted:hover {\n",
       "  /* fitted */\n",
       "  background-color: var(--sklearn-color-fitted-level-3);\n",
       "  color: var(--sklearn-color-background);\n",
       "  text-decoration: none;\n",
       "}\n",
       "\n",
       "/* Span, style for the box shown on hovering the info icon */\n",
       ".sk-estimator-doc-link span {\n",
       "  display: none;\n",
       "  z-index: 9999;\n",
       "  position: relative;\n",
       "  font-weight: normal;\n",
       "  right: .2ex;\n",
       "  padding: .5ex;\n",
       "  margin: .5ex;\n",
       "  width: min-content;\n",
       "  min-width: 20ex;\n",
       "  max-width: 50ex;\n",
       "  color: var(--sklearn-color-text);\n",
       "  box-shadow: 2pt 2pt 4pt #999;\n",
       "  /* unfitted */\n",
       "  background: var(--sklearn-color-unfitted-level-0);\n",
       "  border: .5pt solid var(--sklearn-color-unfitted-level-3);\n",
       "}\n",
       "\n",
       ".sk-estimator-doc-link.fitted span {\n",
       "  /* fitted */\n",
       "  background: var(--sklearn-color-fitted-level-0);\n",
       "  border: var(--sklearn-color-fitted-level-3);\n",
       "}\n",
       "\n",
       ".sk-estimator-doc-link:hover span {\n",
       "  display: block;\n",
       "}\n",
       "\n",
       "/* \"?\"-specific style due to the `<a>` HTML tag */\n",
       "\n",
       "#sk-container-id-1 a.estimator_doc_link {\n",
       "  float: right;\n",
       "  font-size: 1rem;\n",
       "  line-height: 1em;\n",
       "  font-family: monospace;\n",
       "  background-color: var(--sklearn-color-background);\n",
       "  border-radius: 1rem;\n",
       "  height: 1rem;\n",
       "  width: 1rem;\n",
       "  text-decoration: none;\n",
       "  /* unfitted */\n",
       "  color: var(--sklearn-color-unfitted-level-1);\n",
       "  border: var(--sklearn-color-unfitted-level-1) 1pt solid;\n",
       "}\n",
       "\n",
       "#sk-container-id-1 a.estimator_doc_link.fitted {\n",
       "  /* fitted */\n",
       "  border: var(--sklearn-color-fitted-level-1) 1pt solid;\n",
       "  color: var(--sklearn-color-fitted-level-1);\n",
       "}\n",
       "\n",
       "/* On hover */\n",
       "#sk-container-id-1 a.estimator_doc_link:hover {\n",
       "  /* unfitted */\n",
       "  background-color: var(--sklearn-color-unfitted-level-3);\n",
       "  color: var(--sklearn-color-background);\n",
       "  text-decoration: none;\n",
       "}\n",
       "\n",
       "#sk-container-id-1 a.estimator_doc_link.fitted:hover {\n",
       "  /* fitted */\n",
       "  background-color: var(--sklearn-color-fitted-level-3);\n",
       "}\n",
       "</style><div id=\"sk-container-id-1\" class=\"sk-top-container\"><div class=\"sk-text-repr-fallback\"><pre>SVC(kernel=&#x27;linear&#x27;)</pre><b>In a Jupyter environment, please rerun this cell to show the HTML representation or trust the notebook. <br />On GitHub, the HTML representation is unable to render, please try loading this page with nbviewer.org.</b></div><div class=\"sk-container\" hidden><div class=\"sk-item\"><div class=\"sk-estimator fitted sk-toggleable\"><input class=\"sk-toggleable__control sk-hidden--visually\" id=\"sk-estimator-id-1\" type=\"checkbox\" checked><label for=\"sk-estimator-id-1\" class=\"sk-toggleable__label fitted sk-toggleable__label-arrow fitted\">&nbsp;&nbsp;SVC<a class=\"sk-estimator-doc-link fitted\" rel=\"noreferrer\" target=\"_blank\" href=\"https://scikit-learn.org/1.4/modules/generated/sklearn.svm.SVC.html\">?<span>Documentation for SVC</span></a><span class=\"sk-estimator-doc-link fitted\">i<span>Fitted</span></span></label><div class=\"sk-toggleable__content fitted\"><pre>SVC(kernel=&#x27;linear&#x27;)</pre></div> </div></div></div></div>"
      ],
      "text/plain": [
       "SVC(kernel='linear')"
      ]
     },
     "execution_count": 19,
     "metadata": {},
     "output_type": "execute_result"
    }
   ],
   "source": [
    "from sklearn.svm import SVC\n",
    "from sklearn.metrics import classification_report\n",
    "\n",
    "# Train an SVM model\n",
    "svm_model = SVC(kernel='linear')\n",
    "svm_model.fit(train_embeddings, train_labels)"
   ]
  },
  {
   "cell_type": "markdown",
   "metadata": {},
   "source": [
    "Evaluate SVM results using `test_embeddings` and `test_labels`"
   ]
  },
  {
   "cell_type": "code",
   "execution_count": 20,
   "metadata": {},
   "outputs": [
    {
     "name": "stdout",
     "output_type": "stream",
     "text": [
      "              precision    recall  f1-score   support\n",
      "\n",
      "           0       0.90      0.91      0.90     12500\n",
      "           1       0.91      0.90      0.90     12500\n",
      "\n",
      "    accuracy                           0.90     25000\n",
      "   macro avg       0.90      0.90      0.90     25000\n",
      "weighted avg       0.90      0.90      0.90     25000\n",
      "\n"
     ]
    }
   ],
   "source": [
    "# Predict and evaluate\n",
    "predicted_labels = svm_model.predict(test_embeddings)\n",
    "print(classification_report(y_true=test_labels, y_pred=predicted_labels))"
   ]
  },
  {
   "cell_type": "markdown",
   "metadata": {},
   "source": [
    "MLP"
   ]
  },
  {
   "cell_type": "code",
   "execution_count": 21,
   "metadata": {},
   "outputs": [
    {
     "name": "stdout",
     "output_type": "stream",
     "text": [
      "Iteration 1, loss = 0.45508312\n",
      "Iteration 2, loss = 0.32360067\n",
      "Iteration 3, loss = 0.30201054\n",
      "Iteration 4, loss = 0.29376630\n",
      "Iteration 5, loss = 0.29093661\n",
      "Iteration 6, loss = 0.28485199\n",
      "Iteration 7, loss = 0.28306261\n",
      "Iteration 8, loss = 0.27774261\n",
      "Iteration 9, loss = 0.28060523\n",
      "Iteration 10, loss = 0.27239479\n",
      "Iteration 11, loss = 0.26746099\n",
      "Iteration 12, loss = 0.26639452\n",
      "Iteration 13, loss = 0.26759380\n",
      "Iteration 14, loss = 0.27147793\n",
      "Iteration 15, loss = 0.26649923\n",
      "Iteration 16, loss = 0.26131166\n",
      "Iteration 17, loss = 0.26058729\n",
      "Iteration 18, loss = 0.25630766\n",
      "Iteration 19, loss = 0.25358914\n",
      "Iteration 20, loss = 0.25397461\n",
      "Iteration 21, loss = 0.25147743\n",
      "Iteration 22, loss = 0.24943971\n",
      "Iteration 23, loss = 0.25084300\n",
      "Iteration 24, loss = 0.24741396\n",
      "Iteration 25, loss = 0.24528136\n",
      "Iteration 26, loss = 0.24756351\n",
      "Iteration 27, loss = 0.24111311\n",
      "Iteration 28, loss = 0.24670886\n",
      "Iteration 29, loss = 0.23864409\n",
      "Iteration 30, loss = 0.23626259\n",
      "Iteration 31, loss = 0.23756441\n",
      "Iteration 32, loss = 0.23041007\n",
      "Iteration 33, loss = 0.23334413\n",
      "Iteration 34, loss = 0.23171178\n",
      "Iteration 35, loss = 0.23017372\n",
      "Iteration 36, loss = 0.23199787\n",
      "Iteration 37, loss = 0.22360576\n",
      "Iteration 38, loss = 0.22498300\n",
      "Iteration 39, loss = 0.22654793\n",
      "Iteration 40, loss = 0.22153533\n",
      "Iteration 41, loss = 0.22032950\n",
      "Iteration 42, loss = 0.22516422\n",
      "Iteration 43, loss = 0.22058742\n",
      "Iteration 44, loss = 0.21525087\n",
      "Iteration 45, loss = 0.21339459\n",
      "Iteration 46, loss = 0.21490884\n",
      "Iteration 47, loss = 0.21280030\n",
      "Iteration 48, loss = 0.20891399\n",
      "Iteration 49, loss = 0.21294498\n",
      "Iteration 50, loss = 0.20876456\n",
      "Iteration 51, loss = 0.20835567\n",
      "Iteration 52, loss = 0.20049625\n",
      "Iteration 53, loss = 0.20341350\n",
      "Iteration 54, loss = 0.20020948\n",
      "Iteration 55, loss = 0.20323960\n",
      "Iteration 56, loss = 0.19422582\n",
      "Iteration 57, loss = 0.19367735\n",
      "Iteration 58, loss = 0.19099386\n",
      "Iteration 59, loss = 0.19325999\n",
      "Iteration 60, loss = 0.19189866\n",
      "Iteration 61, loss = 0.19247954\n",
      "Iteration 62, loss = 0.19764529\n",
      "Iteration 63, loss = 0.19787022\n",
      "Iteration 64, loss = 0.19265172\n",
      "Iteration 65, loss = 0.18577080\n",
      "Iteration 66, loss = 0.19223523\n",
      "Iteration 67, loss = 0.19282607\n",
      "Iteration 68, loss = 0.18689036\n",
      "Iteration 69, loss = 0.17878358\n",
      "Iteration 70, loss = 0.18273491\n",
      "Iteration 71, loss = 0.19206495\n",
      "Iteration 72, loss = 0.19003349\n",
      "Iteration 73, loss = 0.18766464\n",
      "Iteration 74, loss = 0.18938597\n",
      "Iteration 75, loss = 0.18331239\n",
      "Iteration 76, loss = 0.17233448\n",
      "Iteration 77, loss = 0.17596877\n",
      "Iteration 78, loss = 0.17682639\n",
      "Iteration 79, loss = 0.18067388\n",
      "Iteration 80, loss = 0.16961047\n",
      "Iteration 81, loss = 0.17337416\n",
      "Iteration 82, loss = 0.17119298\n",
      "Iteration 83, loss = 0.17667793\n",
      "Iteration 84, loss = 0.16759250\n",
      "Iteration 85, loss = 0.16793864\n",
      "Iteration 86, loss = 0.16196672\n",
      "Iteration 87, loss = 0.16260793\n",
      "Iteration 88, loss = 0.16423704\n",
      "Iteration 89, loss = 0.16898081\n",
      "Iteration 90, loss = 0.16636105\n",
      "Iteration 91, loss = 0.16417645\n",
      "Iteration 92, loss = 0.17111563\n",
      "Iteration 93, loss = 0.16592278\n",
      "Iteration 94, loss = 0.16888597\n",
      "Iteration 95, loss = 0.16054542\n",
      "Iteration 96, loss = 0.16210890\n",
      "Iteration 97, loss = 0.15810248\n",
      "Iteration 98, loss = 0.16436728\n",
      "Iteration 99, loss = 0.15001258\n",
      "Iteration 100, loss = 0.15597300\n",
      "Iteration 101, loss = 0.14899003\n",
      "Iteration 102, loss = 0.15977006\n",
      "Iteration 103, loss = 0.15110704\n",
      "Iteration 104, loss = 0.15715200\n",
      "Iteration 105, loss = 0.15085828\n",
      "Iteration 106, loss = 0.15149433\n",
      "Iteration 107, loss = 0.14908447\n",
      "Iteration 108, loss = 0.14997577\n",
      "Iteration 109, loss = 0.14764273\n",
      "Iteration 110, loss = 0.14828598\n",
      "Iteration 111, loss = 0.14117171\n",
      "Iteration 112, loss = 0.14418735\n",
      "Iteration 113, loss = 0.13892234\n",
      "Iteration 114, loss = 0.14076629\n",
      "Iteration 115, loss = 0.13116909\n",
      "Iteration 116, loss = 0.13688954\n",
      "Iteration 117, loss = 0.13686335\n",
      "Iteration 118, loss = 0.14432338\n",
      "Iteration 119, loss = 0.15776141\n",
      "Iteration 120, loss = 0.14435543\n",
      "Iteration 121, loss = 0.13972961\n",
      "Iteration 122, loss = 0.14134237\n",
      "Iteration 123, loss = 0.13433929\n",
      "Iteration 124, loss = 0.13981436\n",
      "Iteration 125, loss = 0.13313584\n",
      "Iteration 126, loss = 0.13215960\n",
      "Training loss did not improve more than tol=0.000100 for 10 consecutive epochs. Stopping.\n",
      "              precision    recall  f1-score   support\n",
      "\n",
      "           0       0.96      0.96      0.96     12500\n",
      "           1       0.96      0.96      0.96     12500\n",
      "\n",
      "    accuracy                           0.96     25000\n",
      "   macro avg       0.96      0.96      0.96     25000\n",
      "weighted avg       0.96      0.96      0.96     25000\n",
      "\n"
     ]
    }
   ],
   "source": [
    "from sklearn.neural_network import MLPClassifier\n",
    "from sklearn.metrics import classification_report\n",
    "\n",
    "# Define the MLP model\n",
    "mlp_model = MLPClassifier(hidden_layer_sizes=(100,), max_iter=300, alpha=1e-4,\n",
    "                          solver='sgd', verbose=1, random_state=1,\n",
    "                          learning_rate_init=.1)\n",
    "\n",
    "# Train the MLP model\n",
    "mlp_model.fit(train_embeddings, train_labels)\n",
    "\n",
    "# Predict and evaluate\n",
    "predicted_labels_mlp = mlp_model.predict(test_embeddings)\n",
    "print(classification_report(y_true=test_labels, y_pred=predicted_labels_mlp))\n"
   ]
  },
  {
   "cell_type": "markdown",
   "metadata": {},
   "source": [
    "## The Text Embedding Pipeline"
   ]
  },
  {
   "cell_type": "code",
   "execution_count": 22,
   "metadata": {},
   "outputs": [
    {
     "data": {
      "application/vnd.jupyter.widget-view+json": {
       "model_id": "a47d0b3f95bc4112811dce34f7562160",
       "version_major": 2,
       "version_minor": 0
      },
      "text/plain": [
       "Saving the dataset (0/1 shards):   0%|          | 0/1000 [00:00<?, ? examples/s]"
      ]
     },
     "metadata": {},
     "output_type": "display_data"
    },
    {
     "data": {
      "application/vnd.jupyter.widget-view+json": {
       "model_id": "dc6abe636c064f7f92f5a0a0b681e34b",
       "version_major": 2,
       "version_minor": 0
      },
      "text/plain": [
       "Saving the dataset (0/1 shards):   0%|          | 0/1000 [00:00<?, ? examples/s]"
      ]
     },
     "metadata": {},
     "output_type": "display_data"
    },
    {
     "name": "stdout",
     "output_type": "stream",
     "text": [
      "Data loaded and sampled.\n",
      "Local data loaded.\n"
     ]
    },
    {
     "data": {
      "application/vnd.jupyter.widget-view+json": {
       "model_id": "aac721dff8fd4802ba3fdf756bd7d01a",
       "version_major": 2,
       "version_minor": 0
      },
      "text/plain": [
       "Map:   0%|          | 0/1000 [00:00<?, ? examples/s]"
      ]
     },
     "metadata": {},
     "output_type": "display_data"
    },
    {
     "data": {
      "application/vnd.jupyter.widget-view+json": {
       "model_id": "a41a4db1e8eb4d0abb8a61189a702a68",
       "version_major": 2,
       "version_minor": 0
      },
      "text/plain": [
       "Map:   0%|          | 0/1000 [00:00<?, ? examples/s]"
      ]
     },
     "metadata": {},
     "output_type": "display_data"
    },
    {
     "name": "stdout",
     "output_type": "stream",
     "text": [
      "Data augmented with prefixes and suffixes.\n"
     ]
    },
    {
     "data": {
      "application/vnd.jupyter.widget-view+json": {
       "model_id": "f1c45d291d824f53851e7bc721dea104",
       "version_major": 2,
       "version_minor": 0
      },
      "text/plain": [
       "Embedding text:   0%|          | 0/1000 [00:00<?, ?it/s]"
      ]
     },
     "metadata": {},
     "output_type": "display_data"
    },
    {
     "name": "stdout",
     "output_type": "stream",
     "text": [
      "Embeddings and labels saved at 05-27_14:01.\n",
      "Data loaded for model: BERT\n",
      "SVM Evaluation Report:\n",
      "              precision    recall  f1-score   support\n",
      "\n",
      "           0       0.88      0.89      0.89       104\n",
      "           1       0.88      0.86      0.87        96\n",
      "\n",
      "    accuracy                           0.88       200\n",
      "   macro avg       0.88      0.88      0.88       200\n",
      "weighted avg       0.88      0.88      0.88       200\n",
      "\n"
     ]
    }
   ],
   "source": [
    "from TextEmbeddingPipeline import EmbedFlow\n",
    "\n",
    "flow = EmbedFlow(model_name=\"BERT\", dataset_name=\"IMDB\", prefix=\"Prefix: \", suffix=\" :Suffix\")\n",
    "\n",
    "flow.start_flow(sample_size=1000, use_mean_pooling=True, method='svm')\n"
   ]
  }
 ],
 "metadata": {
  "kernelspec": {
   "display_name": "embed",
   "language": "python",
   "name": "python3"
  },
  "language_info": {
   "codemirror_mode": {
    "name": "ipython",
    "version": 3
   },
   "file_extension": ".py",
   "mimetype": "text/x-python",
   "name": "python",
   "nbconvert_exporter": "python",
   "pygments_lexer": "ipython3",
   "version": "3.12.3"
  }
 },
 "nbformat": 4,
 "nbformat_minor": 2
}
