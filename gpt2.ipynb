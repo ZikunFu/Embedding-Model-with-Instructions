{
 "cells": [
  {
   "cell_type": "code",
   "execution_count": 1,
   "metadata": {},
   "outputs": [],
   "source": [
    "def display_dataset_info(dataset):\n",
    "    info = dataset.info\n",
    "    dataset_name = info.dataset_name\n",
    "    splits_info = info.splits\n",
    "    features = info.features\n",
    "    print(f\"Dataset Name: {dataset_name}\")\n",
    "    print(\"Splits Info:\")\n",
    "    for split_name, split_info in splits_info.items():\n",
    "        num_examples = split_info.num_examples\n",
    "        print(f\" - Split: {split_name}, Num Examples: {num_examples}\")\n",
    "    print(\"Features:\")\n",
    "    for feature_name, feature_info in features.items():\n",
    "        print(f\" - {feature_name}: {feature_info}\")"
   ]
  },
  {
   "cell_type": "code",
   "execution_count": 2,
   "metadata": {},
   "outputs": [
    {
     "name": "stdout",
     "output_type": "stream",
     "text": [
      "Dataset Name: imdb\n",
      "Splits Info:\n",
      " - Split: train, Num Examples: 25000\n",
      " - Split: test, Num Examples: 25000\n",
      " - Split: unsupervised, Num Examples: 50000\n",
      "Features:\n",
      " - text: Value(dtype='string', id=None)\n",
      " - label: ClassLabel(names=['neg', 'pos'], id=None)\n"
     ]
    },
    {
     "data": {
      "application/vnd.jupyter.widget-view+json": {
       "model_id": "357e8f0a08854b1597b24e5bff40b3df",
       "version_major": 2,
       "version_minor": 0
      },
      "text/plain": [
       "Saving the dataset (0/1 shards):   0%|          | 0/25000 [00:00<?, ? examples/s]"
      ]
     },
     "metadata": {},
     "output_type": "display_data"
    },
    {
     "data": {
      "application/vnd.jupyter.widget-view+json": {
       "model_id": "1cb850e429a440d9a6d627f0424e63b2",
       "version_major": 2,
       "version_minor": 0
      },
      "text/plain": [
       "Saving the dataset (0/1 shards):   0%|          | 0/25000 [00:00<?, ? examples/s]"
      ]
     },
     "metadata": {},
     "output_type": "display_data"
    }
   ],
   "source": [
    "from datasets import load_dataset\n",
    "import os\n",
    "\n",
    "def save_dataset(random_sample_size=0, save_path='sampled_datasets'):  \n",
    "    # Load the dataset\n",
    "    dataset_name = 'stanfordnlp/imdb'\n",
    "    dataset = load_dataset(dataset_name)\n",
    "    display_dataset_info(dataset['test'])\n",
    "    # Access the train, test splits\n",
    "    train_dataset = dataset['train']\n",
    "    test_dataset = dataset['test']\n",
    "\n",
    "    # Random sample the dataset, only use random_sample_size\n",
    "    if(random_sample_size != 0):\n",
    "        train_dataset = train_dataset.shuffle(seed=42).select(range(random_sample_size))\n",
    "        test_dataset = test_dataset.shuffle(seed=42).select(range(random_sample_size))\n",
    "\n",
    "    train_save_path = os.path.join(save_path, f\"{dataset_name}_train_{random_sample_size}\")\n",
    "    test_save_path = os.path.join(save_path, f\"{dataset_name}_test_{random_sample_size}\")\n",
    "\n",
    "    train_dataset.save_to_disk(train_save_path)\n",
    "    test_dataset.save_to_disk(test_save_path)\n",
    "\n",
    "save_dataset()"
   ]
  },
  {
   "cell_type": "code",
   "execution_count": 3,
   "metadata": {},
   "outputs": [
    {
     "name": "stdout",
     "output_type": "stream",
     "text": [
      ">>Train Dataset loaded<<\n",
      "Text: I rented I AM CURIOUS-YELLOW from my video store because of\n",
      "all the controversy that surrounded it when it was first\n",
      "released in 1967. I also heard that at first it was seized\n",
      "by U.S. customs if it ever tried to enter this country,\n",
      "therefore being a fan of films considered \"controversial\" I\n",
      "really had to see this for myself.<br /><br />The plot is\n",
      "centered around a young Swedish drama student named Lena who\n",
      "wants to learn everything she can about life. In particular\n",
      "she wants to focus her attentions to making some sort of\n",
      "documentary on what the average Swede thought about certain\n",
      "political issues such as the Vietnam War and race issues in\n",
      "the United States. In between asking politicians and\n",
      "ordinary denizens of Stockholm about their opinions on\n",
      "politics, she has sex with her drama teacher, classmates,\n",
      "and married men.<br /><br />What kills me about I AM\n",
      "CURIOUS-YELLOW is that 40 years ago, this was considered\n",
      "pornographic. Really, the sex and nudity scenes are few and\n",
      "far between, even then it's not shot like some cheaply made\n",
      "porno. While my countrymen mind find it shocking, in reality\n",
      "sex and nudity are a major staple in Swedish cinema. Even\n",
      "Ingmar Bergman, arguably their answer to good old boy John\n",
      "Ford, had sex scenes in his films.<br /><br />I do commend\n",
      "the filmmakers for the fact that any sex shown in the film\n",
      "is shown for artistic purposes rather than just to shock\n",
      "people and make money to be shown in pornographic theaters\n",
      "in America. I AM CURIOUS-YELLOW is a good film for anyone\n",
      "wanting to study the meat and potatoes (no pun intended) of\n",
      "Swedish cinema. But really, this film doesn't have much of a\n",
      "plot. \n",
      "Label: 0\n",
      "\n",
      ">>Test Dataset loaded<<\n",
      "Text: I love sci-fi and am willing to put up with a lot. Sci-fi\n",
      "movies/TV are usually underfunded, under-appreciated and\n",
      "misunderstood. I tried to like this, I really did, but it is\n",
      "to good TV sci-fi as Babylon 5 is to Star Trek (the\n",
      "original). Silly prosthetics, cheap cardboard sets, stilted\n",
      "dialogues, CG that doesn't match the background, and\n",
      "painfully one-dimensional characters cannot be overcome with\n",
      "a 'sci-fi' setting. (I'm sure there are those of you out\n",
      "there who think Babylon 5 is good sci-fi TV. It's not. It's\n",
      "clichéd and uninspiring.) While US viewers might like\n",
      "emotion and character development, sci-fi is a genre that\n",
      "does not take itself seriously (cf. Star Trek). It may treat\n",
      "important issues, yet not as a serious philosophy. It's\n",
      "really difficult to care about the characters here as they\n",
      "are not simply foolish, just missing a spark of life. Their\n",
      "actions and reactions are wooden and predictable, often\n",
      "painful to watch. The makers of Earth KNOW it's rubbish as\n",
      "they have to always say \"Gene Roddenberry's Earth...\"\n",
      "otherwise people would not continue watching. Roddenberry's\n",
      "ashes must be turning in their orbit as this dull, cheap,\n",
      "poorly edited (watching it without advert breaks really\n",
      "brings this home) trudging Trabant of a show lumbers into\n",
      "space. Spoiler. So, kill off a main character. And then\n",
      "bring him back as another actor. Jeeez! Dallas all over\n",
      "again. \n",
      "Label: 0\n"
     ]
    }
   ],
   "source": [
    "from datasets import load_from_disk\n",
    "import textwrap\n",
    "def load_dataset_from_disk(save_path='sampled_datasets/stanfordnlp', train_path='imdb_train_0', test_path='imdb_test_0'):\n",
    "    try:\n",
    "        train_save_path = os.path.join(save_path, train_path)\n",
    "        test_save_path = os.path.join(save_path, test_path)\n",
    "\n",
    "        train_dataset = load_from_disk(train_save_path)\n",
    "        test_dataset = load_from_disk(test_save_path)\n",
    "        \n",
    "        print(\">>Train Dataset loaded<<\")\n",
    "        # Print a sample from the loaded datasets to verify\n",
    "        print(\"Text:\", textwrap.fill(train_dataset[0][\"text\"], width=60), \"\\nLabel:\", train_dataset[0][\"label\"])\n",
    "        \n",
    "        print(\"\\n>>Test Dataset loaded<<\")\n",
    "        # Print a sample from the loaded test datasets to verify\n",
    "        print(\"Text:\", textwrap.fill(test_dataset[0][\"text\"], width=60), \"\\nLabel:\", test_dataset[0][\"label\"])\n",
    "        return train_dataset, test_dataset\n",
    "    except Exception as e:\n",
    "        print(f\"An error occurred while loading the datasets: {e}\")\n",
    "    return train_dataset, test_dataset\n",
    "\n",
    "train_dataset, test_dataset = load_dataset_from_disk()"
   ]
  },
  {
   "cell_type": "code",
   "execution_count": 8,
   "metadata": {},
   "outputs": [],
   "source": [
    "import torch\n",
    "from transformers import GPT2Tokenizer, GPT2Model\n",
    "from torch.utils.data import DataLoader\n",
    "\n",
    "def process_dataset(dataset, model_name=\"gpt2\", key=\"text\", truncation=True, padding=True, max_length=512, use_mean_pooling=True, batch_size=16):\n",
    "    tokenizer = GPT2Tokenizer.from_pretrained(model_name)\n",
    "    \n",
    "    # Set pad_token to eos_token\n",
    "    tokenizer.pad_token = tokenizer.eos_token\n",
    "\n",
    "    model = GPT2Model.from_pretrained(model_name)\n",
    "    model.eval()\n",
    "\n",
    "    # Use GPU if available\n",
    "    device = torch.device(\"cuda\" if torch.cuda.is_available() else \"cpu\")\n",
    "    model.to(device)\n",
    "    \n",
    "    def embed_texts(batch):\n",
    "        inputs = tokenizer(batch, truncation=truncation, padding=padding, max_length=max_length, return_tensors=\"pt\")\n",
    "        inputs = {k: v.to(device) for k, v in inputs.items()}\n",
    "        with torch.no_grad():\n",
    "            outputs = model(**inputs)\n",
    "        if use_mean_pooling:\n",
    "            embeddings = outputs.last_hidden_state.mean(dim=1)  # Mean pooling\n",
    "        else:\n",
    "            embeddings = outputs.last_hidden_state[:, 0, :]  # Use CLS token (if applicable)\n",
    "        return embeddings.cpu().numpy()\n",
    "\n",
    "    dataloader = DataLoader(dataset, batch_size=batch_size)\n",
    "    \n",
    "    all_embeddings = []\n",
    "    all_labels = []\n",
    "\n",
    "    for batch in dataloader:\n",
    "        texts = batch[key]\n",
    "        embeddings = embed_texts(texts)\n",
    "        all_embeddings.extend(embeddings)\n",
    "        all_labels.extend(batch['label'].numpy())\n",
    "    \n",
    "    return all_embeddings, all_labels\n",
    "\n",
    "train_embeddings, train_labels = process_dataset(dataset=train_dataset, model_name=\"gpt2\", key=\"text\", \n",
    "                                                 truncation=True, padding=True, max_length=512, use_mean_pooling=True)\n",
    "test_embeddings, test_labels = process_dataset(dataset=test_dataset, model_name=\"gpt2\", key=\"text\", \n",
    "                                               truncation=True, padding=True, max_length=512, use_mean_pooling=True)"
   ]
  },
  {
   "cell_type": "code",
   "execution_count": 9,
   "metadata": {},
   "outputs": [
    {
     "name": "stdout",
     "output_type": "stream",
     "text": [
      "I rented I AM CURIOUS-YELLOW from my video store because of\n",
      "all the controversy that surrounded it when it was first\n",
      "released in 1967. I also heard that at first it was seized\n",
      "by U.S. customs if it ever tried to enter this country,\n",
      "therefore being a fan of films considered \"controversial\" I\n",
      "really had to see this for myself.<br /><br />The plot is\n",
      "centered around a young Swedish drama student named Lena who\n",
      "wants to learn everything she can about life. In particular\n",
      "she wants to focus her attentions to making some sort of\n",
      "documentary on what the average Swede thought about certain\n",
      "political issues such as the Vietnam War and race issues in\n",
      "the United States. In between asking politicians and\n",
      "ordinary denizens of Stockholm about their opinions on\n",
      "politics, she has sex with her drama teacher, classmates,\n",
      "and married men.<br /><br />What kills me about I AM\n",
      "CURIOUS-YELLOW is that 40 years ago, this was considered\n",
      "pornographic. Really, the sex and nudity scenes are few and\n",
      "far between, even then it's not shot like some cheaply made\n",
      "porno. While my countrymen mind find it shocking, in reality\n",
      "sex and nudity are a major staple in Swedish cinema. Even\n",
      "Ingmar Bergman, arguably their answer to good old boy John\n",
      "Ford, had sex scenes in his films.<br /><br />I do commend\n",
      "the filmmakers for the fact that any sex shown in the film\n",
      "is shown for artistic purposes rather than just to shock\n",
      "people and make money to be shown in pornographic theaters\n",
      "in America. I AM CURIOUS-YELLOW is a good film for anyone\n",
      "wanting to study the meat and potatoes (no pun intended) of\n",
      "Swedish cinema. But really, this film doesn't have much of a\n",
      "plot.\n"
     ]
    }
   ],
   "source": [
    "import textwrap\n",
    "\n",
    "def modify_dataset(example):\n",
    "    example['text'] = \"\" + example['text']\n",
    "    return example\n",
    "\n",
    "# Apply the function to the dataset\n",
    "train_dataset_aug = train_dataset.map(modify_dataset)\n",
    "\n",
    "# Check the first review\n",
    "example = train_dataset_aug['text'][0]\n",
    "print(textwrap.fill(example, width=60))"
   ]
  },
  {
   "cell_type": "code",
   "execution_count": 10,
   "metadata": {},
   "outputs": [],
   "source": [
    "from datetime import datetime\n",
    "import os, json\n",
    "import numpy as np\n",
    "def save_embeddings(embeddings, model_name, save_path=\"data\"):\n",
    "    timestamp = datetime.now().strftime(\"%m-%d_%H:%M\")\n",
    "    # Calculate the average shape of tensors\n",
    "    tensor_shapes = [tensor.shape for tensor in embeddings]\n",
    "    avg_shape = np.mean(tensor_shapes, axis=0).tolist()\n",
    "    \n",
    "    embedding_info = {\n",
    "        'model_name': model_name,\n",
    "        'num_embeddings': len(embeddings),\n",
    "        'avg_embedding_shape': avg_shape,\n",
    "        'created_at': timestamp\n",
    "    }\n",
    "    \n",
    "    os.makedirs(save_path, exist_ok=True)\n",
    "    embedding_file = os.path.join(save_path, f\"{model_name}_embeddings.npy\")\n",
    "    metadata_file = os.path.join(save_path, f\"{model_name}_metadata.json\")\n",
    "    \n",
    "    np.save(embedding_file, embeddings)\n",
    "\n",
    "    with open(metadata_file, 'w') as f:\n",
    "        json.dump(embedding_info, f)\n",
    "    \n",
    "    print(f\"Embeddings and metadata saved for {model_name} at {timestamp}\")"
   ]
  },
  {
   "cell_type": "code",
   "execution_count": 11,
   "metadata": {},
   "outputs": [],
   "source": [
    "import numpy as np\n",
    "def load_embeddings(embedding_file, metadata_file):\n",
    "    embeddings = np.load(embedding_file)\n",
    "    with open(metadata_file, 'r') as f:\n",
    "        metadata = json.load(f)\n",
    "    \n",
    "    print(f\"Loaded embeddings from model: {metadata['model_name']}\")\n",
    "    print(f\"Number of embeddings: {metadata['num_embeddings']}\")\n",
    "    print(f\"Average embedding shape: {metadata['avg_embedding_shape']}\")\n",
    "    print(f\"Created at: {metadata['created_at']}\")\n",
    "    \n",
    "    return embeddings"
   ]
  },
  {
   "cell_type": "code",
   "execution_count": 12,
   "metadata": {},
   "outputs": [
    {
     "name": "stdout",
     "output_type": "stream",
     "text": [
      "Embeddings and metadata saved for GPT2 at 05-28_21:29\n"
     ]
    }
   ],
   "source": [
    "save_path=\"data\"\n",
    "model_name=\"GPT2\"\n",
    "save_embeddings(train_embeddings, model_name, save_path)"
   ]
  },
  {
   "cell_type": "code",
   "execution_count": 13,
   "metadata": {},
   "outputs": [
    {
     "name": "stdout",
     "output_type": "stream",
     "text": [
      "Loaded embeddings from model: GPT2\n",
      "Number of embeddings: 25000\n",
      "Average embedding shape: [768.0]\n",
      "Created at: 05-28_21:29\n"
     ]
    },
    {
     "data": {
      "text/plain": [
       "array([[ 0.01628887,  0.16235308, -0.36071613, ...,  0.04537376,\n",
       "        -0.10686247, -0.02329521],\n",
       "       [ 0.13334286,  0.18759903, -0.33198926, ...,  0.10624611,\n",
       "        -0.03493104,  0.04586201],\n",
       "       [ 0.05417421, -0.09070875, -0.07028615, ...,  0.0975593 ,\n",
       "        -0.09904678,  0.01274938],\n",
       "       ...,\n",
       "       [-0.0116824 ,  0.00273553, -0.05081039, ..., -0.02027671,\n",
       "        -0.13268858, -0.00678555],\n",
       "       [-0.0541323 ,  0.04904725, -0.20206001, ..., -0.03556992,\n",
       "        -0.10749355, -0.08424992],\n",
       "       [-0.02461178, -0.09264515,  0.04751003, ...,  0.11467135,\n",
       "        -0.14804234,  0.06516315]], dtype=float32)"
      ]
     },
     "execution_count": 13,
     "metadata": {},
     "output_type": "execute_result"
    }
   ],
   "source": [
    "save_path=\"data\"\n",
    "model_name=\"GPT2\"\n",
    "\n",
    "embedding_file = os.path.join(save_path, f\"{model_name}_embeddings.npy\")\n",
    "metadata_file = os.path.join(save_path, f\"{model_name}_metadata.json\")\n",
    "load_embeddings(embedding_file,metadata_file)"
   ]
  },
  {
   "cell_type": "code",
   "execution_count": 14,
   "metadata": {},
   "outputs": [
    {
     "data": {
      "text/html": [
       "<style>#sk-container-id-1 {color: black;}#sk-container-id-1 pre{padding: 0;}#sk-container-id-1 div.sk-toggleable {background-color: white;}#sk-container-id-1 label.sk-toggleable__label {cursor: pointer;display: block;width: 100%;margin-bottom: 0;padding: 0.3em;box-sizing: border-box;text-align: center;}#sk-container-id-1 label.sk-toggleable__label-arrow:before {content: \"▸\";float: left;margin-right: 0.25em;color: #696969;}#sk-container-id-1 label.sk-toggleable__label-arrow:hover:before {color: black;}#sk-container-id-1 div.sk-estimator:hover label.sk-toggleable__label-arrow:before {color: black;}#sk-container-id-1 div.sk-toggleable__content {max-height: 0;max-width: 0;overflow: hidden;text-align: left;background-color: #f0f8ff;}#sk-container-id-1 div.sk-toggleable__content pre {margin: 0.2em;color: black;border-radius: 0.25em;background-color: #f0f8ff;}#sk-container-id-1 input.sk-toggleable__control:checked~div.sk-toggleable__content {max-height: 200px;max-width: 100%;overflow: auto;}#sk-container-id-1 input.sk-toggleable__control:checked~label.sk-toggleable__label-arrow:before {content: \"▾\";}#sk-container-id-1 div.sk-estimator input.sk-toggleable__control:checked~label.sk-toggleable__label {background-color: #d4ebff;}#sk-container-id-1 div.sk-label input.sk-toggleable__control:checked~label.sk-toggleable__label {background-color: #d4ebff;}#sk-container-id-1 input.sk-hidden--visually {border: 0;clip: rect(1px 1px 1px 1px);clip: rect(1px, 1px, 1px, 1px);height: 1px;margin: -1px;overflow: hidden;padding: 0;position: absolute;width: 1px;}#sk-container-id-1 div.sk-estimator {font-family: monospace;background-color: #f0f8ff;border: 1px dotted black;border-radius: 0.25em;box-sizing: border-box;margin-bottom: 0.5em;}#sk-container-id-1 div.sk-estimator:hover {background-color: #d4ebff;}#sk-container-id-1 div.sk-parallel-item::after {content: \"\";width: 100%;border-bottom: 1px solid gray;flex-grow: 1;}#sk-container-id-1 div.sk-label:hover label.sk-toggleable__label {background-color: #d4ebff;}#sk-container-id-1 div.sk-serial::before {content: \"\";position: absolute;border-left: 1px solid gray;box-sizing: border-box;top: 0;bottom: 0;left: 50%;z-index: 0;}#sk-container-id-1 div.sk-serial {display: flex;flex-direction: column;align-items: center;background-color: white;padding-right: 0.2em;padding-left: 0.2em;position: relative;}#sk-container-id-1 div.sk-item {position: relative;z-index: 1;}#sk-container-id-1 div.sk-parallel {display: flex;align-items: stretch;justify-content: center;background-color: white;position: relative;}#sk-container-id-1 div.sk-item::before, #sk-container-id-1 div.sk-parallel-item::before {content: \"\";position: absolute;border-left: 1px solid gray;box-sizing: border-box;top: 0;bottom: 0;left: 50%;z-index: -1;}#sk-container-id-1 div.sk-parallel-item {display: flex;flex-direction: column;z-index: 1;position: relative;background-color: white;}#sk-container-id-1 div.sk-parallel-item:first-child::after {align-self: flex-end;width: 50%;}#sk-container-id-1 div.sk-parallel-item:last-child::after {align-self: flex-start;width: 50%;}#sk-container-id-1 div.sk-parallel-item:only-child::after {width: 0;}#sk-container-id-1 div.sk-dashed-wrapped {border: 1px dashed gray;margin: 0 0.4em 0.5em 0.4em;box-sizing: border-box;padding-bottom: 0.4em;background-color: white;}#sk-container-id-1 div.sk-label label {font-family: monospace;font-weight: bold;display: inline-block;line-height: 1.2em;}#sk-container-id-1 div.sk-label-container {text-align: center;}#sk-container-id-1 div.sk-container {/* jupyter's `normalize.less` sets `[hidden] { display: none; }` but bootstrap.min.css set `[hidden] { display: none !important; }` so we also need the `!important` here to be able to override the default hidden behavior on the sphinx rendered scikit-learn.org. See: https://github.com/scikit-learn/scikit-learn/issues/21755 */display: inline-block !important;position: relative;}#sk-container-id-1 div.sk-text-repr-fallback {display: none;}</style><div id=\"sk-container-id-1\" class=\"sk-top-container\"><div class=\"sk-text-repr-fallback\"><pre>SVC(kernel=&#x27;linear&#x27;)</pre><b>In a Jupyter environment, please rerun this cell to show the HTML representation or trust the notebook. <br />On GitHub, the HTML representation is unable to render, please try loading this page with nbviewer.org.</b></div><div class=\"sk-container\" hidden><div class=\"sk-item\"><div class=\"sk-estimator sk-toggleable\"><input class=\"sk-toggleable__control sk-hidden--visually\" id=\"sk-estimator-id-1\" type=\"checkbox\" checked><label for=\"sk-estimator-id-1\" class=\"sk-toggleable__label sk-toggleable__label-arrow\">SVC</label><div class=\"sk-toggleable__content\"><pre>SVC(kernel=&#x27;linear&#x27;)</pre></div></div></div></div></div>"
      ],
      "text/plain": [
       "SVC(kernel='linear')"
      ]
     },
     "execution_count": 14,
     "metadata": {},
     "output_type": "execute_result"
    }
   ],
   "source": [
    "from sklearn.svm import SVC\n",
    "from sklearn.metrics import classification_report\n",
    "\n",
    "# Train an SVM model\n",
    "svm_model = SVC(kernel='linear')\n",
    "svm_model.fit(train_embeddings, train_labels)"
   ]
  },
  {
   "cell_type": "code",
   "execution_count": 15,
   "metadata": {},
   "outputs": [
    {
     "name": "stdout",
     "output_type": "stream",
     "text": [
      "              precision    recall  f1-score   support\n",
      "\n",
      "           0       0.90      0.90      0.90     12500\n",
      "           1       0.90      0.90      0.90     12500\n",
      "\n",
      "    accuracy                           0.90     25000\n",
      "   macro avg       0.90      0.90      0.90     25000\n",
      "weighted avg       0.90      0.90      0.90     25000\n",
      "\n"
     ]
    }
   ],
   "source": [
    "# Predict and evaluate\n",
    "predicted_labels = svm_model.predict(test_embeddings)\n",
    "print(classification_report(y_true=test_labels, y_pred=predicted_labels))"
   ]
  }
 ],
 "metadata": {
  "kernelspec": {
   "display_name": "Python 3",
   "language": "python",
   "name": "python3"
  },
  "language_info": {
   "codemirror_mode": {
    "name": "ipython",
    "version": 3
   },
   "file_extension": ".py",
   "mimetype": "text/x-python",
   "name": "python",
   "nbconvert_exporter": "python",
   "pygments_lexer": "ipython3",
   "version": "3.11.5"
  }
 },
 "nbformat": 4,
 "nbformat_minor": 2
}
